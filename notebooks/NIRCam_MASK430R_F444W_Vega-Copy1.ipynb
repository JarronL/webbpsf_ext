{
 "cells": [
  {
   "cell_type": "markdown",
   "id": "certified-commander",
   "metadata": {},
   "source": [
    "# NIRCam F444W Coronagraphic Observations of Vega \n",
    "---\n",
    "Here we create the basics for a MIRI simulation to observe the Fomalhaut system with the FQPM 1550. This includes simulating the Fomalhaut stellar source behind the center of the phase mask, some fake off-axis companions, and a debris disk model that crosses the mask's quadrant boundaries.\n",
    "\n",
    "From JWST PID 1193, the pointing file provides some the relevant information. Here's a truncated version of the pointing file for the first roll position. In this example, we skip the target acquisition observations and only simulate the science exposure image.\n",
    "```\n",
    "* Fomalhaut-1550C-Rot1 (Obs 6)\n",
    "** Visit 6:1\n",
    "Aperture Name     Target        RA        Dec         V2       V3      IdlX    IdlY   Level    Type \n",
    "MIRIM_TABLOCK     1 VEGA      +279.23474 +38.78369  -407.464 -387.100  +0.000  +0.000 TARGET   T_ACQ \n",
    "MIRIM_TA1550_UR   1 VEGA      +279.23474 +38.78369  -395.471 -365.842  +0.000  +0.000 TARGET   T_ACQ \n",
    "MIRIM_TA1550_CUR  1 VEGA      +279.23474 +38.78369  -391.430 -370.519  +0.122  +0.134 TARGET   T_ACQ \n",
    "MIRIM_MASK1550    1 VEGA      +279.23474 +38.78369  -389.892 -372.181  +0.000  +0.000 TARGET   SCIENCE \n",
    "```\n",
    "\n",
    "Final outputs will be detector-sampled slope images (counts/sec)."
   ]
  },
  {
   "cell_type": "code",
   "execution_count": 1,
   "id": "duplicate-dress",
   "metadata": {},
   "outputs": [],
   "source": [
    "# Import the usual libraries\n",
    "import numpy as np\n",
    "import matplotlib\n",
    "import matplotlib.pyplot as plt\n",
    "#import matplotlib.patches as mpatches\n",
    "\n",
    "# Enable inline plotting\n",
    "%matplotlib inline\n",
    "\n",
    "# Progress bar\n",
    "from tqdm.auto import trange, tqdm"
   ]
  },
  {
   "cell_type": "code",
   "execution_count": 2,
   "id": "suspected-covering",
   "metadata": {},
   "outputs": [],
   "source": [
    "import webbpsf_ext, pysiaf\n",
    "from astropy.io import fits"
   ]
  },
  {
   "cell_type": "code",
   "execution_count": 3,
   "id": "desperate-ecuador",
   "metadata": {},
   "outputs": [],
   "source": [
    "from webbpsf_ext import image_manip, setup_logging, spectra, coords"
   ]
  },
  {
   "cell_type": "markdown",
   "id": "round-interview",
   "metadata": {},
   "source": [
    "# NIRCam Observation with MASK430R+F444W"
   ]
  },
  {
   "cell_type": "markdown",
   "id": "sustained-beast",
   "metadata": {},
   "source": [
    "## 1. Create PSF structure"
   ]
  },
  {
   "cell_type": "code",
   "execution_count": 5,
   "id": "native-partition",
   "metadata": {},
   "outputs": [
    {
     "name": "stdout",
     "output_type": "stream",
     "text": [
      "[   webbpsf:INFO] NIRCam aperture name updated to NRCA1_FULL\n"
     ]
    }
   ],
   "source": [
    "# Mask information\n",
    "filt = 'F182M'\n",
    "mask = None #'MASK430R'\n",
    "pupil = None #'CIRCLYOT'\n",
    "\n",
    "# Initiate instrument class with selected filters, pupil mask, and image mask\n",
    "inst = webbpsf_ext.NIRCam_ext(filter=filt, pupil_mask=pupil, image_mask=mask)"
   ]
  },
  {
   "cell_type": "code",
   "execution_count": 6,
   "id": "disciplinary-default",
   "metadata": {},
   "outputs": [],
   "source": [
    "# Set desired PSF size and oversampling\n",
    "inst.fov_pix = 65\n",
    "inst.oversample = 2\n",
    "inst.quick = True"
   ]
  },
  {
   "cell_type": "code",
   "execution_count": 21,
   "id": "turkish-procurement",
   "metadata": {},
   "outputs": [],
   "source": [
    "w1, w2 = inst.wave_fit\n",
    "# inst.ndeg = 8\n",
    "npsf = int(np.ceil(30 * (w2-w1)))\n",
    "# npsf = inst.npsf\n",
    "waves = np.linspace(w1, w2, npsf)"
   ]
  },
  {
   "cell_type": "code",
   "execution_count": 22,
   "id": "prerequisite-operation",
   "metadata": {},
   "outputs": [],
   "source": [
    "from webbpsf_ext.webbpsf_ext_core import _wrap_coeff_for_mp\n",
    "from webbpsf_ext.maths import jl_poly, jl_poly_fit"
   ]
  },
  {
   "cell_type": "code",
   "execution_count": 23,
   "id": "welcome-update",
   "metadata": {},
   "outputs": [
    {
     "data": {
      "application/vnd.jupyter.widget-view+json": {
       "model_id": "",
       "version_major": 2,
       "version_minor": 0
      },
      "text/plain": [
       "Single PSFs:   0%|          | 0/11 [00:00<?, ?it/s]"
      ]
     },
     "metadata": {},
     "output_type": "display_data"
    }
   ],
   "source": [
    "setup_logging('WARN', verbose=False)\n",
    "worker_arguments = [(inst, wlen) for wlen in waves]\n",
    "hdu_arr = []\n",
    "for wa in tqdm(worker_arguments, desc='Single PSFs', leave=False):\n",
    "    hdu = _wrap_coeff_for_mp(wa)\n",
    "    hdu_arr.append(hdu)\n",
    "    \n",
    "# Extract image data from HDU array\n",
    "images = []\n",
    "for hdu in hdu_arr:\n",
    "    images.append(hdu.data)\n",
    "\n",
    "# Turn results into an numpy array (npsf,ny,nx)\n",
    "images = np.array(images)"
   ]
  },
  {
   "cell_type": "code",
   "execution_count": 25,
   "id": "deluxe-circuit",
   "metadata": {},
   "outputs": [
    {
     "data": {
      "text/plain": [
       "8"
      ]
     },
     "execution_count": 25,
     "metadata": {},
     "output_type": "execute_result"
    }
   ],
   "source": [
    "int(np.ceil(20 * (w2-w1)))"
   ]
  },
  {
   "cell_type": "code",
   "execution_count": 20,
   "id": "tough-divide",
   "metadata": {},
   "outputs": [
    {
     "data": {
      "text/plain": [
       "11"
      ]
     },
     "execution_count": 20,
     "metadata": {},
     "output_type": "execute_result"
    }
   ],
   "source": [
    "int(np.ceil(30 * (w2-w1)))"
   ]
  },
  {
   "cell_type": "code",
   "execution_count": 18,
   "id": "chief-messaging",
   "metadata": {},
   "outputs": [
    {
     "data": {
      "text/plain": [
       "array([1.6645    , 1.71664286, 1.76878571, 1.82092857, 1.87307143,\n",
       "       1.92521429, 1.97735714, 2.0295    ])"
      ]
     },
     "execution_count": 18,
     "metadata": {},
     "output_type": "execute_result"
    }
   ],
   "source": [
    "waves"
   ]
  },
  {
   "cell_type": "code",
   "execution_count": 27,
   "id": "reasonable-chase",
   "metadata": {},
   "outputs": [
    {
     "name": "stdout",
     "output_type": "stream",
     "text": [
      "55 25\n"
     ]
    },
    {
     "data": {
      "image/png": "[encoded data removed]",
      "text/plain": [
       "<Figure size 1008x360 with 2 Axes>"
      ]
     },
     "metadata": {
      "needs_background": "light"
     },
     "output_type": "display_data"
    }
   ],
   "source": [
    "iy, ix = np.random.randint(4,120, 2)\n",
    "# iy, ix = (58, 18)\n",
    "iy, ix = 55, 25\n",
    "#iy, ix = (49,5)\n",
    "vals = images[:,iy,ix]\n",
    "print(iy,ix)\n",
    "\n",
    "# Simultaneous polynomial fits to all pixels using linear least squares\n",
    "ndeg = 8\n",
    "cf0 = jl_poly_fit(waves, vals, deg=ndeg, use_legendre=True, lxmap=[w1,w2])\n",
    "cf1 = jl_poly_fit(waves[0::2], vals[0::2], deg=ndeg, use_legendre=True, lxmap=[w1,w2])\n",
    "# cf2 = jl_poly_fit(waves[0::4], vals[0::4], deg=ndeg, use_legendre=True, lxmap=[w1,w2])\n",
    "\n",
    "fig, axes = plt.subplots(1,2, figsize=(14,5))\n",
    "\n",
    "axes[0].plot(waves, vals)\n",
    "for cf in [cf0,cf1]:\n",
    "    vfit = jl_poly(waves, cf, use_legendre=True, lxmap=[w1,w2])\n",
    "    axes[0].plot(waves, vfit, ls='--', lw=5, marker='o', alpha=0.5)\n",
    "\n",
    "vfit = jl_poly(waves, cf0, use_legendre=True, lxmap=[w1,w2])\n",
    "diff = vals - vfit\n",
    "axes[1].plot(waves, diff)\n",
    "\n",
    "fig.tight_layout()"
   ]
  },
  {
   "cell_type": "code",
   "execution_count": null,
   "id": "contemporary-ecology",
   "metadata": {},
   "outputs": [],
   "source": []
  },
  {
   "cell_type": "code",
   "execution_count": 6,
   "id": "peaceful-aspect",
   "metadata": {},
   "outputs": [
    {
     "name": "stdout",
     "output_type": "stream",
     "text": [
      "[webbpsf_ext:INFO] Generating and saving PSF coefficient\n"
     ]
    },
    {
     "data": {
      "application/vnd.jupyter.widget-view+json": {
       "model_id": "",
       "version_major": 2,
       "version_minor": 0
      },
      "text/plain": [
       "Single PSFs:   0%|          | 0/29 [00:00<?, ?it/s]"
      ]
     },
     "metadata": {},
     "output_type": "display_data"
    },
    {
     "name": "stdout",
     "output_type": "stream",
     "text": [
      "[webbpsf_ext:INFO] Took 44.40 seconds to generate WebbPSF images\n",
      "[webbpsf_ext:INFO] Saving to /Users/Jarron/NIRCam/webbpsf_ext_data/psf_coeffs/NIRCam/LWA_F444W_CIRCLYOT_MASK430R_pix257_os2_jsig0_r0.00_th+0.0_RevWslice0_siwfe_distort_legendre.fits\n"
     ]
    }
   ],
   "source": [
    "# Calculate PSF coefficients\n",
    "inst.gen_psf_coeff()"
   ]
  },
  {
   "cell_type": "code",
   "execution_count": null,
   "id": "administrative-mambo",
   "metadata": {},
   "outputs": [],
   "source": []
  },
  {
   "cell_type": "code",
   "execution_count": 7,
   "id": "twelve-balloon",
   "metadata": {},
   "outputs": [
    {
     "name": "stderr",
     "output_type": "stream",
     "text": [
      "[webbpsf_ext:WARNING] Generating mask position-dependent coefficients. This may take some time...\n"
     ]
    },
    {
     "data": {
      "application/vnd.jupyter.widget-view+json": {
       "model_id": "",
       "version_major": 2,
       "version_minor": 0
      },
      "text/plain": [
       "Mask Offsets:   0%|          | 0/81 [00:00<?, ?it/s]"
      ]
     },
     "metadata": {},
     "output_type": "display_data"
    },
    {
     "data": {
      "application/vnd.jupyter.widget-view+json": {
       "model_id": "",
       "version_major": 2,
       "version_minor": 0
      },
      "text/plain": [
       "Single PSFs:   0%|          | 0/8 [00:00<?, ?it/s]"
      ]
     },
     "metadata": {},
     "output_type": "display_data"
    },
    {
     "data": {
      "application/vnd.jupyter.widget-view+json": {
       "model_id": "",
       "version_major": 2,
       "version_minor": 0
      },
      "text/plain": [
       "Single PSFs:   0%|          | 0/8 [00:00<?, ?it/s]"
      ]
     },
     "metadata": {},
     "output_type": "display_data"
    },
    {
     "data": {
      "application/vnd.jupyter.widget-view+json": {
       "model_id": "",
       "version_major": 2,
       "version_minor": 0
      },
      "text/plain": [
       "Single PSFs:   0%|          | 0/8 [00:00<?, ?it/s]"
      ]
     },
     "metadata": {},
     "output_type": "display_data"
    },
    {
     "data": {
      "application/vnd.jupyter.widget-view+json": {
       "model_id": "",
       "version_major": 2,
       "version_minor": 0
      },
      "text/plain": [
       "Single PSFs:   0%|          | 0/8 [00:00<?, ?it/s]"
      ]
     },
     "metadata": {},
     "output_type": "display_data"
    },
    {
     "data": {
      "application/vnd.jupyter.widget-view+json": {
       "model_id": "",
       "version_major": 2,
       "version_minor": 0
      },
      "text/plain": [
       "Single PSFs:   0%|          | 0/8 [00:00<?, ?it/s]"
      ]
     },
     "metadata": {},
     "output_type": "display_data"
    },
    {
     "data": {
      "application/vnd.jupyter.widget-view+json": {
       "model_id": "",
       "version_major": 2,
       "version_minor": 0
      },
      "text/plain": [
       "Single PSFs:   0%|          | 0/8 [00:00<?, ?it/s]"
      ]
     },
     "metadata": {},
     "output_type": "display_data"
    },
    {
     "data": {
      "application/vnd.jupyter.widget-view+json": {
       "model_id": "",
       "version_major": 2,
       "version_minor": 0
      },
      "text/plain": [
       "Single PSFs:   0%|          | 0/8 [00:00<?, ?it/s]"
      ]
     },
     "metadata": {},
     "output_type": "display_data"
    },
    {
     "data": {
      "application/vnd.jupyter.widget-view+json": {
       "model_id": "",
       "version_major": 2,
       "version_minor": 0
      },
      "text/plain": [
       "Single PSFs:   0%|          | 0/8 [00:00<?, ?it/s]"
      ]
     },
     "metadata": {},
     "output_type": "display_data"
    },
    {
     "data": {
      "application/vnd.jupyter.widget-view+json": {
       "model_id": "",
       "version_major": 2,
       "version_minor": 0
      },
      "text/plain": [
       "Single PSFs:   0%|          | 0/8 [00:00<?, ?it/s]"
      ]
     },
     "metadata": {},
     "output_type": "display_data"
    },
    {
     "data": {
      "application/vnd.jupyter.widget-view+json": {
       "model_id": "",
       "version_major": 2,
       "version_minor": 0
      },
      "text/plain": [
       "Single PSFs:   0%|          | 0/8 [00:00<?, ?it/s]"
      ]
     },
     "metadata": {},
     "output_type": "display_data"
    },
    {
     "data": {
      "application/vnd.jupyter.widget-view+json": {
       "model_id": "",
       "version_major": 2,
       "version_minor": 0
      },
      "text/plain": [
       "Single PSFs:   0%|          | 0/8 [00:00<?, ?it/s]"
      ]
     },
     "metadata": {},
     "output_type": "display_data"
    },
    {
     "data": {
      "application/vnd.jupyter.widget-view+json": {
       "model_id": "",
       "version_major": 2,
       "version_minor": 0
      },
      "text/plain": [
       "Single PSFs:   0%|          | 0/8 [00:00<?, ?it/s]"
      ]
     },
     "metadata": {},
     "output_type": "display_data"
    },
    {
     "data": {
      "application/vnd.jupyter.widget-view+json": {
       "model_id": "",
       "version_major": 2,
       "version_minor": 0
      },
      "text/plain": [
       "Single PSFs:   0%|          | 0/8 [00:00<?, ?it/s]"
      ]
     },
     "metadata": {},
     "output_type": "display_data"
    },
    {
     "data": {
      "application/vnd.jupyter.widget-view+json": {
       "model_id": "",
       "version_major": 2,
       "version_minor": 0
      },
      "text/plain": [
       "Single PSFs:   0%|          | 0/8 [00:00<?, ?it/s]"
      ]
     },
     "metadata": {},
     "output_type": "display_data"
    },
    {
     "data": {
      "application/vnd.jupyter.widget-view+json": {
       "model_id": "",
       "version_major": 2,
       "version_minor": 0
      },
      "text/plain": [
       "Single PSFs:   0%|          | 0/8 [00:00<?, ?it/s]"
      ]
     },
     "metadata": {},
     "output_type": "display_data"
    },
    {
     "data": {
      "application/vnd.jupyter.widget-view+json": {
       "model_id": "",
       "version_major": 2,
       "version_minor": 0
      },
      "text/plain": [
       "Single PSFs:   0%|          | 0/8 [00:00<?, ?it/s]"
      ]
     },
     "metadata": {},
     "output_type": "display_data"
    },
    {
     "data": {
      "application/vnd.jupyter.widget-view+json": {
       "model_id": "",
       "version_major": 2,
       "version_minor": 0
      },
      "text/plain": [
       "Single PSFs:   0%|          | 0/8 [00:00<?, ?it/s]"
      ]
     },
     "metadata": {},
     "output_type": "display_data"
    },
    {
     "data": {
      "application/vnd.jupyter.widget-view+json": {
       "model_id": "",
       "version_major": 2,
       "version_minor": 0
      },
      "text/plain": [
       "Single PSFs:   0%|          | 0/8 [00:00<?, ?it/s]"
      ]
     },
     "metadata": {},
     "output_type": "display_data"
    },
    {
     "data": {
      "application/vnd.jupyter.widget-view+json": {
       "model_id": "",
       "version_major": 2,
       "version_minor": 0
      },
      "text/plain": [
       "Single PSFs:   0%|          | 0/8 [00:00<?, ?it/s]"
      ]
     },
     "metadata": {},
     "output_type": "display_data"
    },
    {
     "data": {
      "application/vnd.jupyter.widget-view+json": {
       "model_id": "",
       "version_major": 2,
       "version_minor": 0
      },
      "text/plain": [
       "Single PSFs:   0%|          | 0/8 [00:00<?, ?it/s]"
      ]
     },
     "metadata": {},
     "output_type": "display_data"
    },
    {
     "data": {
      "application/vnd.jupyter.widget-view+json": {
       "model_id": "",
       "version_major": 2,
       "version_minor": 0
      },
      "text/plain": [
       "Single PSFs:   0%|          | 0/8 [00:00<?, ?it/s]"
      ]
     },
     "metadata": {},
     "output_type": "display_data"
    },
    {
     "data": {
      "application/vnd.jupyter.widget-view+json": {
       "model_id": "",
       "version_major": 2,
       "version_minor": 0
      },
      "text/plain": [
       "Single PSFs:   0%|          | 0/8 [00:00<?, ?it/s]"
      ]
     },
     "metadata": {},
     "output_type": "display_data"
    },
    {
     "data": {
      "application/vnd.jupyter.widget-view+json": {
       "model_id": "",
       "version_major": 2,
       "version_minor": 0
      },
      "text/plain": [
       "Single PSFs:   0%|          | 0/8 [00:00<?, ?it/s]"
      ]
     },
     "metadata": {},
     "output_type": "display_data"
    },
    {
     "data": {
      "application/vnd.jupyter.widget-view+json": {
       "model_id": "",
       "version_major": 2,
       "version_minor": 0
      },
      "text/plain": [
       "Single PSFs:   0%|          | 0/8 [00:00<?, ?it/s]"
      ]
     },
     "metadata": {},
     "output_type": "display_data"
    },
    {
     "data": {
      "application/vnd.jupyter.widget-view+json": {
       "model_id": "",
       "version_major": 2,
       "version_minor": 0
      },
      "text/plain": [
       "Single PSFs:   0%|          | 0/8 [00:00<?, ?it/s]"
      ]
     },
     "metadata": {},
     "output_type": "display_data"
    },
    {
     "data": {
      "application/vnd.jupyter.widget-view+json": {
       "model_id": "",
       "version_major": 2,
       "version_minor": 0
      },
      "text/plain": [
       "Single PSFs:   0%|          | 0/8 [00:00<?, ?it/s]"
      ]
     },
     "metadata": {},
     "output_type": "display_data"
    },
    {
     "data": {
      "application/vnd.jupyter.widget-view+json": {
       "model_id": "",
       "version_major": 2,
       "version_minor": 0
      },
      "text/plain": [
       "Single PSFs:   0%|          | 0/8 [00:00<?, ?it/s]"
      ]
     },
     "metadata": {},
     "output_type": "display_data"
    },
    {
     "data": {
      "application/vnd.jupyter.widget-view+json": {
       "model_id": "",
       "version_major": 2,
       "version_minor": 0
      },
      "text/plain": [
       "Single PSFs:   0%|          | 0/8 [00:00<?, ?it/s]"
      ]
     },
     "metadata": {},
     "output_type": "display_data"
    },
    {
     "data": {
      "application/vnd.jupyter.widget-view+json": {
       "model_id": "",
       "version_major": 2,
       "version_minor": 0
      },
      "text/plain": [
       "Single PSFs:   0%|          | 0/8 [00:00<?, ?it/s]"
      ]
     },
     "metadata": {},
     "output_type": "display_data"
    },
    {
     "data": {
      "application/vnd.jupyter.widget-view+json": {
       "model_id": "",
       "version_major": 2,
       "version_minor": 0
      },
      "text/plain": [
       "Single PSFs:   0%|          | 0/8 [00:00<?, ?it/s]"
      ]
     },
     "metadata": {},
     "output_type": "display_data"
    },
    {
     "data": {
      "application/vnd.jupyter.widget-view+json": {
       "model_id": "",
       "version_major": 2,
       "version_minor": 0
      },
      "text/plain": [
       "Single PSFs:   0%|          | 0/8 [00:00<?, ?it/s]"
      ]
     },
     "metadata": {},
     "output_type": "display_data"
    },
    {
     "data": {
      "application/vnd.jupyter.widget-view+json": {
       "model_id": "",
       "version_major": 2,
       "version_minor": 0
      },
      "text/plain": [
       "Single PSFs:   0%|          | 0/8 [00:00<?, ?it/s]"
      ]
     },
     "metadata": {},
     "output_type": "display_data"
    },
    {
     "data": {
      "application/vnd.jupyter.widget-view+json": {
       "model_id": "",
       "version_major": 2,
       "version_minor": 0
      },
      "text/plain": [
       "Single PSFs:   0%|          | 0/8 [00:00<?, ?it/s]"
      ]
     },
     "metadata": {},
     "output_type": "display_data"
    },
    {
     "data": {
      "application/vnd.jupyter.widget-view+json": {
       "model_id": "",
       "version_major": 2,
       "version_minor": 0
      },
      "text/plain": [
       "Single PSFs:   0%|          | 0/8 [00:00<?, ?it/s]"
      ]
     },
     "metadata": {},
     "output_type": "display_data"
    },
    {
     "data": {
      "application/vnd.jupyter.widget-view+json": {
       "model_id": "",
       "version_major": 2,
       "version_minor": 0
      },
      "text/plain": [
       "Single PSFs:   0%|          | 0/8 [00:00<?, ?it/s]"
      ]
     },
     "metadata": {},
     "output_type": "display_data"
    },
    {
     "data": {
      "application/vnd.jupyter.widget-view+json": {
       "model_id": "",
       "version_major": 2,
       "version_minor": 0
      },
      "text/plain": [
       "Single PSFs:   0%|          | 0/8 [00:00<?, ?it/s]"
      ]
     },
     "metadata": {},
     "output_type": "display_data"
    },
    {
     "data": {
      "application/vnd.jupyter.widget-view+json": {
       "model_id": "",
       "version_major": 2,
       "version_minor": 0
      },
      "text/plain": [
       "Single PSFs:   0%|          | 0/8 [00:00<?, ?it/s]"
      ]
     },
     "metadata": {},
     "output_type": "display_data"
    },
    {
     "data": {
      "application/vnd.jupyter.widget-view+json": {
       "model_id": "",
       "version_major": 2,
       "version_minor": 0
      },
      "text/plain": [
       "Single PSFs:   0%|          | 0/8 [00:00<?, ?it/s]"
      ]
     },
     "metadata": {},
     "output_type": "display_data"
    },
    {
     "data": {
      "application/vnd.jupyter.widget-view+json": {
       "model_id": "",
       "version_major": 2,
       "version_minor": 0
      },
      "text/plain": [
       "Single PSFs:   0%|          | 0/8 [00:00<?, ?it/s]"
      ]
     },
     "metadata": {},
     "output_type": "display_data"
    },
    {
     "data": {
      "application/vnd.jupyter.widget-view+json": {
       "model_id": "",
       "version_major": 2,
       "version_minor": 0
      },
      "text/plain": [
       "Single PSFs:   0%|          | 0/8 [00:00<?, ?it/s]"
      ]
     },
     "metadata": {},
     "output_type": "display_data"
    },
    {
     "data": {
      "application/vnd.jupyter.widget-view+json": {
       "model_id": "",
       "version_major": 2,
       "version_minor": 0
      },
      "text/plain": [
       "Single PSFs:   0%|          | 0/8 [00:00<?, ?it/s]"
      ]
     },
     "metadata": {},
     "output_type": "display_data"
    },
    {
     "data": {
      "application/vnd.jupyter.widget-view+json": {
       "model_id": "",
       "version_major": 2,
       "version_minor": 0
      },
      "text/plain": [
       "Single PSFs:   0%|          | 0/8 [00:00<?, ?it/s]"
      ]
     },
     "metadata": {},
     "output_type": "display_data"
    },
    {
     "data": {
      "application/vnd.jupyter.widget-view+json": {
       "model_id": "",
       "version_major": 2,
       "version_minor": 0
      },
      "text/plain": [
       "Single PSFs:   0%|          | 0/8 [00:00<?, ?it/s]"
      ]
     },
     "metadata": {},
     "output_type": "display_data"
    },
    {
     "data": {
      "application/vnd.jupyter.widget-view+json": {
       "model_id": "",
       "version_major": 2,
       "version_minor": 0
      },
      "text/plain": [
       "Single PSFs:   0%|          | 0/8 [00:00<?, ?it/s]"
      ]
     },
     "metadata": {},
     "output_type": "display_data"
    },
    {
     "data": {
      "application/vnd.jupyter.widget-view+json": {
       "model_id": "",
       "version_major": 2,
       "version_minor": 0
      },
      "text/plain": [
       "Single PSFs:   0%|          | 0/8 [00:00<?, ?it/s]"
      ]
     },
     "metadata": {},
     "output_type": "display_data"
    },
    {
     "data": {
      "application/vnd.jupyter.widget-view+json": {
       "model_id": "",
       "version_major": 2,
       "version_minor": 0
      },
      "text/plain": [
       "Single PSFs:   0%|          | 0/8 [00:00<?, ?it/s]"
      ]
     },
     "metadata": {},
     "output_type": "display_data"
    },
    {
     "data": {
      "application/vnd.jupyter.widget-view+json": {
       "model_id": "",
       "version_major": 2,
       "version_minor": 0
      },
      "text/plain": [
       "Single PSFs:   0%|          | 0/8 [00:00<?, ?it/s]"
      ]
     },
     "metadata": {},
     "output_type": "display_data"
    },
    {
     "data": {
      "application/vnd.jupyter.widget-view+json": {
       "model_id": "",
       "version_major": 2,
       "version_minor": 0
      },
      "text/plain": [
       "Single PSFs:   0%|          | 0/8 [00:00<?, ?it/s]"
      ]
     },
     "metadata": {},
     "output_type": "display_data"
    },
    {
     "data": {
      "application/vnd.jupyter.widget-view+json": {
       "model_id": "",
       "version_major": 2,
       "version_minor": 0
      },
      "text/plain": [
       "Single PSFs:   0%|          | 0/8 [00:00<?, ?it/s]"
      ]
     },
     "metadata": {},
     "output_type": "display_data"
    },
    {
     "data": {
      "application/vnd.jupyter.widget-view+json": {
       "model_id": "",
       "version_major": 2,
       "version_minor": 0
      },
      "text/plain": [
       "Single PSFs:   0%|          | 0/8 [00:00<?, ?it/s]"
      ]
     },
     "metadata": {},
     "output_type": "display_data"
    },
    {
     "data": {
      "application/vnd.jupyter.widget-view+json": {
       "model_id": "",
       "version_major": 2,
       "version_minor": 0
      },
      "text/plain": [
       "Single PSFs:   0%|          | 0/8 [00:00<?, ?it/s]"
      ]
     },
     "metadata": {},
     "output_type": "display_data"
    },
    {
     "data": {
      "application/vnd.jupyter.widget-view+json": {
       "model_id": "",
       "version_major": 2,
       "version_minor": 0
      },
      "text/plain": [
       "Single PSFs:   0%|          | 0/8 [00:00<?, ?it/s]"
      ]
     },
     "metadata": {},
     "output_type": "display_data"
    },
    {
     "data": {
      "application/vnd.jupyter.widget-view+json": {
       "model_id": "",
       "version_major": 2,
       "version_minor": 0
      },
      "text/plain": [
       "Single PSFs:   0%|          | 0/8 [00:00<?, ?it/s]"
      ]
     },
     "metadata": {},
     "output_type": "display_data"
    },
    {
     "data": {
      "application/vnd.jupyter.widget-view+json": {
       "model_id": "",
       "version_major": 2,
       "version_minor": 0
      },
      "text/plain": [
       "Single PSFs:   0%|          | 0/8 [00:00<?, ?it/s]"
      ]
     },
     "metadata": {},
     "output_type": "display_data"
    },
    {
     "data": {
      "application/vnd.jupyter.widget-view+json": {
       "model_id": "",
       "version_major": 2,
       "version_minor": 0
      },
      "text/plain": [
       "Single PSFs:   0%|          | 0/8 [00:00<?, ?it/s]"
      ]
     },
     "metadata": {},
     "output_type": "display_data"
    },
    {
     "data": {
      "application/vnd.jupyter.widget-view+json": {
       "model_id": "",
       "version_major": 2,
       "version_minor": 0
      },
      "text/plain": [
       "Single PSFs:   0%|          | 0/8 [00:00<?, ?it/s]"
      ]
     },
     "metadata": {},
     "output_type": "display_data"
    },
    {
     "data": {
      "application/vnd.jupyter.widget-view+json": {
       "model_id": "",
       "version_major": 2,
       "version_minor": 0
      },
      "text/plain": [
       "Single PSFs:   0%|          | 0/8 [00:00<?, ?it/s]"
      ]
     },
     "metadata": {},
     "output_type": "display_data"
    },
    {
     "data": {
      "application/vnd.jupyter.widget-view+json": {
       "model_id": "",
       "version_major": 2,
       "version_minor": 0
      },
      "text/plain": [
       "Single PSFs:   0%|          | 0/8 [00:00<?, ?it/s]"
      ]
     },
     "metadata": {},
     "output_type": "display_data"
    },
    {
     "data": {
      "application/vnd.jupyter.widget-view+json": {
       "model_id": "",
       "version_major": 2,
       "version_minor": 0
      },
      "text/plain": [
       "Single PSFs:   0%|          | 0/8 [00:00<?, ?it/s]"
      ]
     },
     "metadata": {},
     "output_type": "display_data"
    },
    {
     "data": {
      "application/vnd.jupyter.widget-view+json": {
       "model_id": "",
       "version_major": 2,
       "version_minor": 0
      },
      "text/plain": [
       "Single PSFs:   0%|          | 0/8 [00:00<?, ?it/s]"
      ]
     },
     "metadata": {},
     "output_type": "display_data"
    },
    {
     "data": {
      "application/vnd.jupyter.widget-view+json": {
       "model_id": "",
       "version_major": 2,
       "version_minor": 0
      },
      "text/plain": [
       "Single PSFs:   0%|          | 0/8 [00:00<?, ?it/s]"
      ]
     },
     "metadata": {},
     "output_type": "display_data"
    },
    {
     "data": {
      "application/vnd.jupyter.widget-view+json": {
       "model_id": "",
       "version_major": 2,
       "version_minor": 0
      },
      "text/plain": [
       "Single PSFs:   0%|          | 0/8 [00:00<?, ?it/s]"
      ]
     },
     "metadata": {},
     "output_type": "display_data"
    },
    {
     "data": {
      "application/vnd.jupyter.widget-view+json": {
       "model_id": "",
       "version_major": 2,
       "version_minor": 0
      },
      "text/plain": [
       "Single PSFs:   0%|          | 0/8 [00:00<?, ?it/s]"
      ]
     },
     "metadata": {},
     "output_type": "display_data"
    },
    {
     "data": {
      "application/vnd.jupyter.widget-view+json": {
       "model_id": "",
       "version_major": 2,
       "version_minor": 0
      },
      "text/plain": [
       "Single PSFs:   0%|          | 0/8 [00:00<?, ?it/s]"
      ]
     },
     "metadata": {},
     "output_type": "display_data"
    },
    {
     "data": {
      "application/vnd.jupyter.widget-view+json": {
       "model_id": "",
       "version_major": 2,
       "version_minor": 0
      },
      "text/plain": [
       "Single PSFs:   0%|          | 0/8 [00:00<?, ?it/s]"
      ]
     },
     "metadata": {},
     "output_type": "display_data"
    },
    {
     "data": {
      "application/vnd.jupyter.widget-view+json": {
       "model_id": "",
       "version_major": 2,
       "version_minor": 0
      },
      "text/plain": [
       "Single PSFs:   0%|          | 0/8 [00:00<?, ?it/s]"
      ]
     },
     "metadata": {},
     "output_type": "display_data"
    },
    {
     "data": {
      "application/vnd.jupyter.widget-view+json": {
       "model_id": "",
       "version_major": 2,
       "version_minor": 0
      },
      "text/plain": [
       "Single PSFs:   0%|          | 0/8 [00:00<?, ?it/s]"
      ]
     },
     "metadata": {},
     "output_type": "display_data"
    },
    {
     "data": {
      "application/vnd.jupyter.widget-view+json": {
       "model_id": "",
       "version_major": 2,
       "version_minor": 0
      },
      "text/plain": [
       "Single PSFs:   0%|          | 0/8 [00:00<?, ?it/s]"
      ]
     },
     "metadata": {},
     "output_type": "display_data"
    },
    {
     "data": {
      "application/vnd.jupyter.widget-view+json": {
       "model_id": "",
       "version_major": 2,
       "version_minor": 0
      },
      "text/plain": [
       "Single PSFs:   0%|          | 0/8 [00:00<?, ?it/s]"
      ]
     },
     "metadata": {},
     "output_type": "display_data"
    },
    {
     "data": {
      "application/vnd.jupyter.widget-view+json": {
       "model_id": "",
       "version_major": 2,
       "version_minor": 0
      },
      "text/plain": [
       "Single PSFs:   0%|          | 0/8 [00:00<?, ?it/s]"
      ]
     },
     "metadata": {},
     "output_type": "display_data"
    },
    {
     "data": {
      "application/vnd.jupyter.widget-view+json": {
       "model_id": "",
       "version_major": 2,
       "version_minor": 0
      },
      "text/plain": [
       "Single PSFs:   0%|          | 0/8 [00:00<?, ?it/s]"
      ]
     },
     "metadata": {},
     "output_type": "display_data"
    },
    {
     "data": {
      "application/vnd.jupyter.widget-view+json": {
       "model_id": "",
       "version_major": 2,
       "version_minor": 0
      },
      "text/plain": [
       "Single PSFs:   0%|          | 0/8 [00:00<?, ?it/s]"
      ]
     },
     "metadata": {},
     "output_type": "display_data"
    },
    {
     "data": {
      "application/vnd.jupyter.widget-view+json": {
       "model_id": "",
       "version_major": 2,
       "version_minor": 0
      },
      "text/plain": [
       "Single PSFs:   0%|          | 0/8 [00:00<?, ?it/s]"
      ]
     },
     "metadata": {},
     "output_type": "display_data"
    },
    {
     "data": {
      "application/vnd.jupyter.widget-view+json": {
       "model_id": "3b3e4faa7f404597a961a3597bec8bea",
       "version_major": 2,
       "version_minor": 0
      },
      "text/plain": [
       "SGD:   0%|          | 0/8 [00:00<?, ?it/s]"
      ]
     },
     "metadata": {},
     "output_type": "display_data"
    },
    {
     "data": {
      "application/vnd.jupyter.widget-view+json": {
       "model_id": "",
       "version_major": 2,
       "version_minor": 0
      },
      "text/plain": [
       "Single PSFs:   0%|          | 0/8 [00:00<?, ?it/s]"
      ]
     },
     "metadata": {},
     "output_type": "display_data"
    },
    {
     "data": {
      "application/vnd.jupyter.widget-view+json": {
       "model_id": "",
       "version_major": 2,
       "version_minor": 0
      },
      "text/plain": [
       "Single PSFs:   0%|          | 0/8 [00:00<?, ?it/s]"
      ]
     },
     "metadata": {},
     "output_type": "display_data"
    },
    {
     "data": {
      "application/vnd.jupyter.widget-view+json": {
       "model_id": "",
       "version_major": 2,
       "version_minor": 0
      },
      "text/plain": [
       "Single PSFs:   0%|          | 0/8 [00:00<?, ?it/s]"
      ]
     },
     "metadata": {},
     "output_type": "display_data"
    },
    {
     "data": {
      "application/vnd.jupyter.widget-view+json": {
       "model_id": "",
       "version_major": 2,
       "version_minor": 0
      },
      "text/plain": [
       "Single PSFs:   0%|          | 0/8 [00:00<?, ?it/s]"
      ]
     },
     "metadata": {},
     "output_type": "display_data"
    },
    {
     "data": {
      "application/vnd.jupyter.widget-view+json": {
       "model_id": "",
       "version_major": 2,
       "version_minor": 0
      },
      "text/plain": [
       "Single PSFs:   0%|          | 0/8 [00:00<?, ?it/s]"
      ]
     },
     "metadata": {},
     "output_type": "display_data"
    },
    {
     "data": {
      "application/vnd.jupyter.widget-view+json": {
       "model_id": "",
       "version_major": 2,
       "version_minor": 0
      },
      "text/plain": [
       "Single PSFs:   0%|          | 0/8 [00:00<?, ?it/s]"
      ]
     },
     "metadata": {},
     "output_type": "display_data"
    },
    {
     "data": {
      "application/vnd.jupyter.widget-view+json": {
       "model_id": "",
       "version_major": 2,
       "version_minor": 0
      },
      "text/plain": [
       "Single PSFs:   0%|          | 0/8 [00:00<?, ?it/s]"
      ]
     },
     "metadata": {},
     "output_type": "display_data"
    },
    {
     "data": {
      "application/vnd.jupyter.widget-view+json": {
       "model_id": "",
       "version_major": 2,
       "version_minor": 0
      },
      "text/plain": [
       "Single PSFs:   0%|          | 0/8 [00:00<?, ?it/s]"
      ]
     },
     "metadata": {},
     "output_type": "display_data"
    },
    {
     "name": "stdout",
     "output_type": "stream",
     "text": [
      "[webbpsf_ext:INFO] Saving to /Users/Jarron/NIRCam/webbpsf_ext_data/psf_coeffs/NIRCam/LWA_F430M_CIRCLYOT_MASK430R_pix129_os2_jsig0_r0.00_th+0.0_RevWslice0_siwfe_distort_legendre_wfemask.npz\n"
     ]
    }
   ],
   "source": [
    "# Calculate position-dependent PSFs due to FQPM\n",
    "# Equivalent to generating a giant library to interpolate over\n",
    "inst.gen_wfemask_coeff(force=True)"
   ]
  },
  {
   "cell_type": "markdown",
   "id": "prepared-bubble",
   "metadata": {},
   "source": [
    "## 1.1 Observation setup\n",
    "\n",
    "__Configuring observation settings__\n",
    "\n",
    "Observations consist of nested visit, mosaic tiles, exposures, and dithers. In this section, we configure a pointing class that houses information for a single observation defined in the APT .pointing file. The primary information includes a pointing reference SIAF aperturne name, RA and Dec of the ref aperture, Base X/Y offset relative to the ref aperture position, and Dith X/Y offsets. From this information, along with the V2/V3 position angle, we can determine the orientation and location of objects on the detector focal plane.\n",
    "\n",
    "**Note**: The reference aperture is not necessarily the same as the observed aperture. For instance, you may observe simultaneously with four of NIRCam's SWA detectors, so the reference aperture would be the entire SWA channel, while the observed apertures are A1, A2, A3, and A4."
   ]
  },
  {
   "cell_type": "code",
   "execution_count": 61,
   "id": "disabled-greene",
   "metadata": {},
   "outputs": [],
   "source": [
    "# Import class to setup pointing info\n",
    "from webbpsf_ext.coords import jwst_point"
   ]
  },
  {
   "cell_type": "code",
   "execution_count": 62,
   "id": "healthy-pickup",
   "metadata": {},
   "outputs": [
    {
     "name": "stdout",
     "output_type": "stream",
     "text": [
      "[webbpsf_ext:INFO] Generating random pointing offsets...\n",
      "[webbpsf_ext:INFO] Pointing uncertainty: 0.0 mas\n",
      "[webbpsf_ext:INFO]   Pos 0 dither uncertainty: 0.0 mas\n"
     ]
    }
   ],
   "source": [
    "# Observed and reference apertures\n",
    "ap_obs = 'NRCA5_MASK430R'\n",
    "ap_ref = 'NRCA5_MASK430R'\n",
    "    \n",
    "# Define the RA/Dec of reference aperture and telescope position angle\n",
    "# Position angle is angle of V3 axis rotated towards East\n",
    "ra_ref, dec_ref = (+279.23474,  +38.78369)\n",
    "pos_ang = 0\n",
    "\n",
    "# Set any baseline pointing offsets (e.g., specified in APT's Special Requirements)\n",
    "base_offset=(0,0)\n",
    "# Define a list of nominal dither offsets\n",
    "dith_offsets = [(0,0)]\n",
    "\n",
    "# Telescope pointing information\n",
    "tel_point = jwst_point(ap_obs, ap_ref, ra_ref, dec_ref, pos_ang=pos_ang,\n",
    "                       base_offset=base_offset, dith_offsets=dith_offsets,\n",
    "                       base_std=0, dith_std=0)"
   ]
  },
  {
   "cell_type": "code",
   "execution_count": 63,
   "id": "athletic-childhood",
   "metadata": {},
   "outputs": [
    {
     "name": "stdout",
     "output_type": "stream",
     "text": [
      "Reference aperture: NRCA5_MASK430R\n",
      "  Nominal RA, Dec = (279.234740, 38.783690)\n",
      "Observed aperture: NRCA5_MASK430R\n",
      "  Nominal RA, Dec = (279.234740, 38.783690)\n",
      "Relative offsets in 'idl' for each dither position (incl. pointing errors)\n",
      "  Position 0: (0.0000, 0.0000) arcsec\n"
     ]
    }
   ],
   "source": [
    "print(f\"Reference aperture: {tel_point.siaf_ap_ref.AperName}\")\n",
    "print(f\"  Nominal RA, Dec = ({tel_point.ra_ref:.6f}, {tel_point.dec_ref:.6f})\")\n",
    "print(f\"Observed aperture: {tel_point.siaf_ap_obs.AperName}\")\n",
    "print(f\"  Nominal RA, Dec = ({tel_point.ra_obs:.6f}, {tel_point.dec_obs:.6f})\")\n",
    "\n",
    "print(f\"Relative offsets in 'idl' for each dither position (incl. pointing errors)\")\n",
    "for i, offset in enumerate(tel_point.position_offsets_act):\n",
    "    print(f\"  Position {i}: ({offset[0]:.4f}, {offset[1]:.4f}) arcsec\")"
   ]
  },
  {
   "cell_type": "markdown",
   "id": "homeless-particular",
   "metadata": {},
   "source": [
    "## 1.2 Add central source\n",
    "\n",
    "Here we define the stellar atmosphere parameters for Fomalhaut, including spectral type, optional values for (Teff, log_g, metallicity), normalization flux and bandpass, as well as RA and Dec."
   ]
  },
  {
   "cell_type": "code",
   "execution_count": 64,
   "id": "defensive-truck",
   "metadata": {},
   "outputs": [],
   "source": [
    "from webbpsf_ext import miri_filter, nircam_filter, bp_2mass\n",
    "from webbpsf_ext.image_manip import pad_or_cut_to_size\n",
    "\n",
    "def make_spec(name=None, sptype=None, flux=None, flux_units=None, bp_ref=None, **kwargs):\n",
    "    \"\"\"\n",
    "    Create pysynphot stellar spectrum from input dictionary properties.\n",
    "    \"\"\"\n",
    "\n",
    "    from webbpsf_ext import stellar_spectrum\n",
    "    \n",
    "    # Renormalization arguments\n",
    "    renorm_args = (flux, flux_units, bp_ref)\n",
    "    \n",
    "    # Create spectrum\n",
    "    sp = stellar_spectrum(sptype, *renorm_args, **kwargs)\n",
    "    if name is not None:\n",
    "        sp.name = name\n",
    "    \n",
    "    return sp"
   ]
  },
  {
   "cell_type": "code",
   "execution_count": 65,
   "id": "congressional-anatomy",
   "metadata": {},
   "outputs": [],
   "source": [
    "# Information necessary to create pysynphot spectrum of star\n",
    "obj_params = {\n",
    "    'name': 'Vega', \n",
    "    'sptype': 'A0V', \n",
    "    'Teff': 9602, 'log_g': 4.1, 'metallicity': -0.5, \n",
    "    'dist': 7.7,\n",
    "    'flux': 16.09, 'flux_units': 'Jy', 'bp_ref': miri_filter('F1550C'),\n",
    "    'RA_obj'  : +279.23474,  # RA (decimal deg) of source\n",
    "    'Dec_obj' :  +38.78369,  # Dec (decimal deg) of source\n",
    "}"
   ]
  },
  {
   "cell_type": "code",
   "execution_count": 66,
   "id": "prescribed-medium",
   "metadata": {},
   "outputs": [],
   "source": [
    "# Create stellar spectrum and add to dictionary\n",
    "sp_star = make_spec(**obj_params)\n",
    "obj_params['sp'] = sp_star"
   ]
  },
  {
   "cell_type": "code",
   "execution_count": 67,
   "id": "speaking-capital",
   "metadata": {},
   "outputs": [
    {
     "name": "stdout",
     "output_type": "stream",
     "text": [
      "Image shifts (oversampled pixels): 9.72022462519817e-12 2.7114310796605423e-11\n"
     ]
    }
   ],
   "source": [
    "# Get `sci` coord positions\n",
    "coord_obj = (obj_params['RA_obj'], obj_params['Dec_obj'])\n",
    "xsci, ysci = tel_point.radec_to_frame(coord_obj, frame_out='sci')\n",
    "\n",
    "# Get sci position shifts from center in units of detector pixels\n",
    "siaf_ap = tel_point.siaf_ap_obs\n",
    "xsci_cen, ysci_cen = siaf_ap.reference_point('sci')\n",
    "xsci_off, ysci_off = (xsci-xsci_cen, ysci-ysci_cen)\n",
    "\n",
    "# and now oversampled pixel shifts\n",
    "osamp = inst.oversample\n",
    "xsci_off_over = xsci_off * osamp\n",
    "ysci_off_over = ysci_off * osamp\n",
    "\n",
    "print(\"Image shifts (oversampled pixels):\", xsci_off_over, ysci_off_over)"
   ]
  },
  {
   "cell_type": "code",
   "execution_count": 68,
   "id": "natural-graphics",
   "metadata": {},
   "outputs": [
    {
     "name": "stdout",
     "output_type": "stream",
     "text": [
      "[webbpsf_ext:INFO] Generating mask-dependent modifications...\n"
     ]
    }
   ],
   "source": [
    "# Create PSF\n",
    "# PSFs already includes geometric distortions based on SIAF info\n",
    "sp = obj_params['sp']\n",
    "xtel, ytel = siaf_ap.convert(xsci, ysci, 'sci', 'tel')\n",
    "hdul = inst.calc_psf_from_coeff(sp=sp, coord_vals=(xtel,ytel), coord_frame='tel')\n",
    "\n",
    "# Expand PSF to full frame and offset to proper position\n",
    "ny_pix, nx_pix = (siaf_ap.YSciSize, siaf_ap.XSciSize)\n",
    "ny_pix_over, nx_pix_over = np.array([ny_pix, nx_pix]) * osamp\n",
    "shape_new = (ny_pix*osamp, nx_pix*osamp)\n",
    "delyx = (ysci_off_over, xsci_off_over)\n",
    "image_full = pad_or_cut_to_size(hdul[0].data, shape_new, offset_vals=delyx)\n",
    "\n",
    "# Make new HDUList of target (just central source so far)\n",
    "hdul_full = fits.HDUList(fits.PrimaryHDU(data=image_full, header=hdul[0].header))"
   ]
  },
  {
   "cell_type": "code",
   "execution_count": 69,
   "id": "operational-smooth",
   "metadata": {},
   "outputs": [
    {
     "data": {
      "image/png": "[encoded data removed]",
      "text/plain": [
       "<Figure size 576x432 with 1 Axes>"
      ]
     },
     "metadata": {
      "needs_background": "light"
     },
     "output_type": "display_data"
    }
   ],
   "source": [
    "fig, ax = plt.subplots(1,1)\n",
    "\n",
    "extent = 0.5 * np.array([-1,1,-1,1]) * inst.fov_pix * inst.pixelscale\n",
    "ax.imshow(hdul_full[0].data, extent=extent)\n",
    "\n",
    "ax.set_xlabel('Arcsec')\n",
    "ax.set_ylabel('Arcsec')\n",
    "\n",
    "ax.tick_params(axis='both', color='white', which='both')\n",
    "for k in ax.spines.keys():\n",
    "    ax.spines[k].set_color('white')\n",
    "ax.xaxis.get_major_locator().set_params(nbins=9, steps=[1, 2, 5, 10])\n",
    "ax.yaxis.get_major_locator().set_params(nbins=9, steps=[1, 2, 5, 10])\n",
    "\n",
    "fig.tight_layout()"
   ]
  },
  {
   "cell_type": "markdown",
   "id": "minus-drink",
   "metadata": {},
   "source": [
    "## 1.3 Convolve extended disk image\n",
    "\n",
    "Properly including extended objects is a little more complicated than for point sources. First, we need properly format the input model to a pixel binning and flux units appropriate for the simulations (ie., pixels should be equal to oversampled PSFs with flux units of counts/sec). Then, the image needs to be rotated relative to the 'idl' coordinate plane and subsequently shifted for any pointing offsets. Once in the appropriate 'idl' system \n"
   ]
  },
  {
   "cell_type": "markdown",
   "id": "oriented-motorcycle",
   "metadata": {},
   "source": [
    "### 1.3.1 PSF Grid"
   ]
  },
  {
   "cell_type": "code",
   "execution_count": 70,
   "id": "blond-australian",
   "metadata": {},
   "outputs": [],
   "source": [
    "# Create grid locations for array of PSFs to generate\n",
    "field_rot = 0 if inst._rotation is None else inst._rotation\n",
    "\n",
    "rvals = 10**(np.linspace(-2,1,7))\n",
    "thvals = np.linspace(0, 360, 7, endpoint=False)\n",
    "\n",
    "rvals_all = [0]\n",
    "thvals_all = [0]\n",
    "for r in rvals:\n",
    "    for th in thvals:\n",
    "        rvals_all.append(r)\n",
    "        thvals_all.append(th)\n",
    "rvals_all = np.array(rvals_all)\n",
    "thvals_all = np.array(thvals_all)\n",
    "\n",
    "xgrid_off, ygrid_off = coords.rtheta_to_xy(rvals_all, thvals_all)\n",
    "\n",
    "# xyoff_half = 10**(np.linspace(-2,1,5))\n",
    "# xoff = yoff = np.concatenate([-1*xyoff_half[::-1],[0],xyoff_half])\n",
    "\n",
    "# # Mask Offset grid positions in arcsec\n",
    "# xgrid_off, ygrid_off = np.meshgrid(xoff, yoff)\n",
    "# xgrid_off, ygrid_off = xgrid_off.flatten(), ygrid_off.flatten()\n",
    "\n",
    "# Science positions in detector pixels\n",
    "xoff_sci_asec, yoff_sci_asec = coords.xy_rot(-1*xgrid_off, -1*ygrid_off, -1*field_rot)\n",
    "xsci = xoff_sci_asec / siaf_ap.XSciScale + siaf_ap.XSciRef\n",
    "ysci = yoff_sci_asec / siaf_ap.YSciScale + siaf_ap.YSciRef\n",
    "\n",
    "xtel, ytel = siaf_ap.convert(xsci, ysci, 'sci', 'tel')"
   ]
  },
  {
   "cell_type": "code",
   "execution_count": 71,
   "id": "rental-arabic",
   "metadata": {},
   "outputs": [
    {
     "data": {
      "text/plain": [
       "[<matplotlib.lines.Line2D at 0x7f8f89e7e150>]"
      ]
     },
     "execution_count": 71,
     "metadata": {},
     "output_type": "execute_result"
    },
    {
     "data": {
      "image/png": "[encoded data removed]",
      "text/plain": [
       "<Figure size 576x432 with 1 Axes>"
      ]
     },
     "metadata": {
      "needs_background": "light"
     },
     "output_type": "display_data"
    }
   ],
   "source": [
    "plt.plot(xtel, ytel, marker='o', ls='none', alpha=0.5)"
   ]
  },
  {
   "cell_type": "code",
   "execution_count": 72,
   "id": "personal-ceremony",
   "metadata": {},
   "outputs": [
    {
     "name": "stdout",
     "output_type": "stream",
     "text": [
      "[webbpsf_ext:INFO] Generating mask-dependent modifications...\n"
     ]
    },
    {
     "data": {
      "application/vnd.jupyter.widget-view+json": {
       "model_id": "e82a7aa706564a0589af5a7628f001ff",
       "version_major": 2,
       "version_minor": 0
      },
      "text/plain": [
       "PSFs:   0%|          | 0/50 [00:00<?, ?it/s]"
      ]
     },
     "metadata": {},
     "output_type": "display_data"
    },
    {
     "name": "stdout",
     "output_type": "stream",
     "text": [
      "CPU times: user 14.4 s, sys: 750 ms, total: 15.1 s\n",
      "Wall time: 4.46 s\n"
     ]
    }
   ],
   "source": [
    "%%time\n",
    "\n",
    "# Now, create all PSFs, one for each (xsci, ysci) location\n",
    "# Only need to do this once. Can be used for multiple dither positions.\n",
    "hdul_psfs = inst.calc_psf_from_coeff(coord_vals=(xtel, ytel), coord_frame='tel', return_oversample=True)"
   ]
  },
  {
   "cell_type": "markdown",
   "id": "french-minneapolis",
   "metadata": {},
   "source": [
    "### 1.3.2 Disk Model Image"
   ]
  },
  {
   "cell_type": "code",
   "execution_count": 73,
   "id": "improving-bryan",
   "metadata": {},
   "outputs": [],
   "source": [
    "# Disk model information\n",
    "disk_params = {\n",
    "    'file': \"Vega/Vega_F444Wsccomb.fits\",\n",
    "    'pixscale': inst.pixelscale,\n",
    "    'wavelength': 4.4,\n",
    "    'units': 'Jy/pixel',\n",
    "    'dist' : 7.7,\n",
    "    'cen_star' : False,\n",
    "}\n",
    "\n",
    "# Open model and rebin to PSF sampling\n",
    "# Scale to instrument wavelength assuming grey scattering function\n",
    "# Converts to phot/sec/lambda\n",
    "# Crop to twice the FoV\n",
    "ny_over = int(2*siaf_ap.YSciSize*inst.oversample)\n",
    "nx_over = int(2*siaf_ap.XSciSize*inst.oversample)\n",
    "shape_out = (ny_over, nx_over)\n",
    "hdul_disk_model = image_manip.make_disk_image(inst, disk_params, sp_star=obj_params['sp'], \n",
    "                                              shape_out=shape_out)\n",
    "\n",
    "# Rotation necessary to go from sky coordinates to 'idl' frame\n",
    "rotate_to_idl = -1*(tel_point.siaf_ap_obs.V3IdlYAngle + tel_point.pos_ang)"
   ]
  },
  {
   "cell_type": "markdown",
   "id": "approximate-validation",
   "metadata": {},
   "source": [
    "### 1.3.3 Dither Position"
   ]
  },
  {
   "cell_type": "code",
   "execution_count": 74,
   "id": "roman-sector",
   "metadata": {},
   "outputs": [],
   "source": [
    "# Select the first dither location offset\n",
    "delx, dely = tel_point.position_offsets_act[0]\n",
    "hdul_out = image_manip.rotate_shift_image(hdul_disk_model, PA_offset=rotate_to_idl,\n",
    "                                          delx_asec=delx, dely_asec=dely)\n",
    "\n",
    "sci_cen = (siaf_ap.XSciRef, siaf_ap.YSciRef)\n",
    "\n",
    "# Distort image on 'sci' coordinate grid\n",
    "im_sci, xsci_im, ysci_im = image_manip.distort_image(hdul_out, ext=0, to_frame='sci', return_coords=True, \n",
    "                                                     aper=siaf_ap, sci_cen=sci_cen)\n",
    "\n",
    "# Distort image onto 'tel' (V2, V3) coordinate grid for plot illustration\n",
    "im_tel, v2_im, v3_im = image_manip.distort_image(hdul_out, ext=0, to_frame='tel', return_coords=True, \n",
    "                                                 aper=siaf_ap, sci_cen=sci_cen)"
   ]
  },
  {
   "cell_type": "code",
   "execution_count": 75,
   "id": "hourly-studio",
   "metadata": {},
   "outputs": [
    {
     "data": {
      "image/png": "[encoded data removed]",
      "text/plain": [
       "<Figure size 576x432 with 1 Axes>"
      ]
     },
     "metadata": {
      "needs_background": "light"
     },
     "output_type": "display_data"
    }
   ],
   "source": [
    "# Plot locations for PSFs that we will generate\n",
    "fig, ax = plt.subplots(1,1)\n",
    "\n",
    "# Show image in V2/V3 plane\n",
    "extent = [v2_im.min(), v2_im.max(), v3_im.min(), v3_im.max()]\n",
    "ax.imshow(im_tel**0.1, extent=extent)\n",
    "\n",
    "# Add on SIAF aperture boundaries\n",
    "tel_point.plot_inst_apertures(ax=ax, clear=False, label=True)\n",
    "tel_point.plot_ref_aperture(ax=ax)\n",
    "tel_point.plot_obs_aperture(ax=ax, color='C4')\n",
    "\n",
    "# Add PSF location points\n",
    "v2, v3 = siaf_ap.convert(xsci, ysci, 'sci', 'tel')\n",
    "ax.scatter(v2, v3, marker='.', alpha=0.5, color='C3', edgecolors='none', linewidths=0)\n",
    "\n",
    "ax.set_title('Model disk image and PSF Locations in SIAF FoV')\n",
    "\n",
    "fig.tight_layout()"
   ]
  },
  {
   "cell_type": "markdown",
   "id": "stone-affair",
   "metadata": {},
   "source": [
    "This particular disk image is oversized, so we will need to crop the image after convolving PSFs. We may want to consider trimming some of this image prior to convolution, depending on how some of the FoV is blocked before reaching the coronagraphic optics."
   ]
  },
  {
   "cell_type": "code",
   "execution_count": 76,
   "id": "answering-pharmacology",
   "metadata": {},
   "outputs": [],
   "source": [
    "# If the image is too large, then this process will eat up much of your computer's RAM\n",
    "# So, crop image to more reasonable size (20% oversized)\n",
    "osamp = inst.oversample\n",
    "xysize = int(1.2 * np.max([siaf_ap.XSciSize,siaf_ap.YSciSize]) * osamp)\n",
    "xy_add = osamp - np.mod(xysize, osamp)\n",
    "xysize += xy_add\n",
    "\n",
    "im_sci = pad_or_cut_to_size(im_sci, xysize)\n",
    "hdul_disk_model_sci = fits.HDUList(fits.PrimaryHDU(data=im_sci, header=hdul_out[0].header))"
   ]
  },
  {
   "cell_type": "code",
   "execution_count": 77,
   "id": "congressional-tampa",
   "metadata": {},
   "outputs": [
    {
     "data": {
      "application/vnd.jupyter.widget-view+json": {
       "model_id": "c462a3bb3d8d4d75a43f4ec386912d1d",
       "version_major": 2,
       "version_minor": 0
      },
      "text/plain": [
       "  0%|          | 0/50 [00:00<?, ?it/s]"
      ]
     },
     "metadata": {},
     "output_type": "display_data"
    },
    {
     "name": "stdout",
     "output_type": "stream",
     "text": [
      "Closing multiprocess pool.\n"
     ]
    }
   ],
   "source": [
    "# Convolve image\n",
    "im_conv = image_manip.convolve_image(hdul_disk_model_sci, hdul_psfs, aper=siaf_ap)"
   ]
  },
  {
   "cell_type": "code",
   "execution_count": 34,
   "id": "meaningful-empty",
   "metadata": {},
   "outputs": [
    {
     "data": {
      "text/plain": [
       "array([ 1.64463236e-05, -1.20209902e+00])"
      ]
     },
     "execution_count": 34,
     "metadata": {},
     "output_type": "execute_result"
    }
   ],
   "source": [
    "(np.array(siaf_ap.convert(0,-1.2,'idl','sci')) - siaf_ap.reference_point('sci'))*inst.pixelscale"
   ]
  },
  {
   "cell_type": "code",
   "execution_count": 28,
   "id": "designing-exercise",
   "metadata": {},
   "outputs": [
    {
     "name": "stdout",
     "output_type": "stream",
     "text": [
      "[webbpsf_ext:INFO] Generating mask-dependent modifications...\n",
      "[ 6.80423645e-05 -1.19983407e+00] [ 1.20021218e+00 -6.28545547e-04]\n"
     ]
    },
    {
     "data": {
      "application/vnd.jupyter.widget-view+json": {
       "model_id": "eb91144ae54848bc9e7c8888fbef5392",
       "version_major": 2,
       "version_minor": 0
      },
      "text/plain": [
       "PSFs:   0%|          | 0/2 [00:00<?, ?it/s]"
      ]
     },
     "metadata": {},
     "output_type": "display_data"
    },
    {
     "name": "stdout",
     "output_type": "stream",
     "text": [
      "[webbpsf_ext:INFO] Generating mask-dependent modifications...\n",
      "6.804236449968194e-05 1.2002121839196989\n",
      "[webbpsf_ext:INFO] Generating mask-dependent modifications...\n",
      "-1.1998340745500315 -0.0006285455473361113\n"
     ]
    }
   ],
   "source": [
    "hdul = inst.calc_psf_from_coeff(coord_vals=[[0,1.2],[-1.2,0]], coord_frame='idl')\n",
    "hdul1 = inst.calc_psf_from_coeff(coord_vals=[0,-1.2], coord_frame='idl')\n",
    "hdul2 = inst.calc_psf_from_coeff(coord_vals=[1.2,0], coord_frame='idl')"
   ]
  },
  {
   "cell_type": "code",
   "execution_count": 29,
   "id": "organizational-enforcement",
   "metadata": {},
   "outputs": [],
   "source": [
    "from scipy.interpolate import griddata, RegularGridInterpolator\n",
    "def field_coeff_func2(xgrid, ygrid, cf_fields, x_new, y_new):\n",
    "    \"\"\"Interpolation function for PSF coefficient residuals\n",
    "\n",
    "    Uses `RegularGridInterpolator` to quickly determine new coefficient\n",
    "    residulas at specified points.\n",
    "\n",
    "    Parameters\n",
    "    ----------\n",
    "    v2grid : ndarray\n",
    "        V2 values corresponding to `cf_fields`.\n",
    "    v3grid : ndarray\n",
    "        V3 values corresponding to `cf_fields`.\n",
    "    cf_fields : ndarray\n",
    "        Coefficient residuals at different field points\n",
    "        Shape is (nV3, nV2, ncoeff, ypix, xpix)\n",
    "    v2_new : ndarray\n",
    "        New V2 point(s) to interpolate on. Same units as v2grid.\n",
    "    v3_new : ndarray\n",
    "        New V3 point(s) to interpolate on. Same units as v3grid.\n",
    "    \"\"\"\n",
    "\n",
    "    func = RegularGridInterpolator((ygrid, xgrid), cf_fields, method='linear', \n",
    "                                   bounds_error=False, fill_value=None)\n",
    "\n",
    "    pts = np.array([y_new,x_new]).transpose()\n",
    "    \n",
    "    # If only 1 point, remove first axes\n",
    "    res = func(pts)\n",
    "    res = res.squeeze() if res.shape[0]==1 else res\n",
    "    \n",
    "    return res\n",
    "\n"
   ]
  },
  {
   "cell_type": "code",
   "execution_count": 54,
   "id": "fresh-teens",
   "metadata": {},
   "outputs": [],
   "source": [
    "apname = inst._psf_coeff_mod['si_mask_apname']\n",
    "xgrid  = inst._psf_coeff_mod['si_mask_xgrid']\n",
    "ygrid  = inst._psf_coeff_mod['si_mask_ygrid']\n",
    "cf_fit = inst._psf_coeff_mod['si_mask']\n",
    "\n",
    "x_new, y_new = (0, 1.2)\n",
    "psf_coeff_mod1 = field_coeff_func2(xgrid, ygrid, cf_fit, x_new, y_new)\n",
    "\n",
    "psf_coeff1 = inst.psf_coeff + psf_coeff_mod1\n",
    "psf_coeff_hdr = inst.psf_coeff_header\n",
    "\n",
    "from webbpsf_ext.psfs import gen_image_from_coeff\n",
    "res1 = gen_image_from_coeff(inst, psf_coeff1, psf_coeff_hdr, return_oversample=True)\n",
    "\n",
    "x_new, y_new = (-1.2, 0)\n",
    "psf_coeff_mod2 = field_coeff_func2(xgrid, ygrid, cf_fit, x_new, y_new)\n",
    "\n",
    "psf_coeff2 = inst.psf_coeff + psf_coeff_mod2\n",
    "psf_coeff_hdr = inst.psf_coeff_header\n",
    "\n",
    "from webbpsf_ext.psfs import gen_image_from_coeff\n",
    "res2 = gen_image_from_coeff(inst, psf_coeff2, psf_coeff_hdr, return_oversample=True)"
   ]
  },
  {
   "cell_type": "code",
   "execution_count": 59,
   "id": "unauthorized-chester",
   "metadata": {},
   "outputs": [
    {
     "name": "stdout",
     "output_type": "stream",
     "text": [
      "0.0008281046908363936 0.0010153636284455235 0.001016985295783932\n"
     ]
    },
    {
     "data": {
      "image/png": "[encoded data removed]",
      "text/plain": [
       "<Figure size 576x432 with 1 Axes>"
      ]
     },
     "metadata": {
      "needs_background": "light"
     },
     "output_type": "display_data"
    }
   ],
   "source": [
    "diff = psf_coeff_mod2[0] - psf_coeff_mod1[0]\n",
    "plt.imshow(diff)\n",
    "\n",
    "print(diff.max(), psf_coeff_mod1[0].max(), psf_coeff_mod2[0].max())"
   ]
  },
  {
   "cell_type": "code",
   "execution_count": 60,
   "id": "square-ultimate",
   "metadata": {},
   "outputs": [],
   "source": [
    "xy_inner = np.array([0.015, 0.02, 0.05, 0.1])\n",
    "xy_mid = np.array([0.6, 1.2, 2, 2.5])\n",
    "xy_outer = np.array([5.0, 8.0])\n",
    "\n",
    "xy_pos = np.concatenate((xy_inner, xy_mid, xy_outer))\n",
    "xy_neg = -1 * xy_pos[::-1]\n",
    "\n",
    "xy_offsets = np.concatenate((xy_neg, [0], xy_pos))"
   ]
  },
  {
   "cell_type": "code",
   "execution_count": 40,
   "id": "opponent-chamber",
   "metadata": {},
   "outputs": [
    {
     "name": "stdout",
     "output_type": "stream",
     "text": [
      "webbpsf_ext log messages of level WARN and above will be shown.\n",
      "webbpsf_ext log outputs will be directed to the screen.\n",
      "webbpsf_ext log messages of level INFO and above will be shown.\n",
      "webbpsf_ext log outputs will be directed to the screen.\n"
     ]
    }
   ],
   "source": [
    "webbpsf_ext.setup_logging('warn')\n",
    "\n",
    "siaf_ap_inst = inst.siaf[inst.aperturename]\n",
    "\n",
    "inst.options['coron_shift_x'] = 0\n",
    "inst.options['coron_shift_y'] = 1.2\n",
    "inst.detector_position = siaf_ap_inst.convert(0, -1.2, 'idl', 'sci')\n",
    "\n",
    "psf1 = inst.calc_psf()\n",
    "\n",
    "inst.options['coron_shift_x'] = -1.2\n",
    "inst.options['coron_shift_y'] = 0\n",
    "inst.detector_position = siaf_ap_inst.convert(1.2, 0, 'idl', 'sci')\n",
    "\n",
    "psf2 = inst.calc_psf()\n",
    "\n",
    "webbpsf_ext.setup_logging('info')"
   ]
  },
  {
   "cell_type": "code",
   "execution_count": 44,
   "id": "dominican-notion",
   "metadata": {},
   "outputs": [
    {
     "data": {
      "text/plain": [
       "(258, 258)"
      ]
     },
     "execution_count": 44,
     "metadata": {},
     "output_type": "execute_result"
    }
   ],
   "source": [
    "psf1[0].shape"
   ]
  },
  {
   "cell_type": "code",
   "execution_count": 46,
   "id": "authorized-specialist",
   "metadata": {},
   "outputs": [
    {
     "data": {
      "text/plain": [
       "<matplotlib.image.AxesImage at 0x7f92f1fed250>"
      ]
     },
     "execution_count": 46,
     "metadata": {},
     "output_type": "execute_result"
    },
    {
     "data": {
      "image/png": "[encoded data removed]",
      "text/plain": [
       "<Figure size 576x432 with 1 Axes>"
      ]
     },
     "metadata": {
      "needs_background": "light"
     },
     "output_type": "display_data"
    }
   ],
   "source": [
    "plt.imshow(psf1[2].data - psf2[2].data)"
   ]
  },
  {
   "cell_type": "code",
   "execution_count": 39,
   "id": "subsequent-costume",
   "metadata": {},
   "outputs": [
    {
     "data": {
      "text/plain": [
       "<matplotlib.image.AxesImage at 0x7f93d23a1a10>"
      ]
     },
     "execution_count": 39,
     "metadata": {},
     "output_type": "execute_result"
    },
    {
     "data": {
      "image/png": "[encoded data removed]",
      "text/plain": [
       "<Figure size 576x432 with 1 Axes>"
      ]
     },
     "metadata": {
      "needs_background": "light"
     },
     "output_type": "display_data"
    }
   ],
   "source": [
    "plt.imshow(hdul[0].data - hdul[1].data)"
   ]
  },
  {
   "cell_type": "code",
   "execution_count": 25,
   "id": "cloudy-rings",
   "metadata": {},
   "outputs": [
    {
     "name": "stdout",
     "output_type": "stream",
     "text": [
      "[-8.    -5.    -2.5   -2.    -1.2   -0.6   -0.1   -0.05  -0.02  -0.015\n",
      "  0.     0.015  0.02   0.05   0.1    0.6    1.2    2.     2.5    5.\n",
      "  8.   ]\n",
      "[-8.    -5.    -2.5   -2.    -1.2   -0.6   -0.1   -0.05  -0.02  -0.015\n",
      "  0.     0.015  0.02   0.05   0.1    0.6    1.2    2.     2.5    5.\n",
      "  8.   ]\n"
     ]
    }
   ],
   "source": [
    "print(inst._psf_coeff_mod['si_mask_xgrid'])\n",
    "print(inst._psf_coeff_mod['si_mask_ygrid'])"
   ]
  },
  {
   "cell_type": "code",
   "execution_count": 31,
   "id": "controversial-passenger",
   "metadata": {},
   "outputs": [
    {
     "name": "stdout",
     "output_type": "stream",
     "text": [
      "0.0 -1.0\n",
      "0.9749279121818236 0.22252093395631423\n"
     ]
    }
   ],
   "source": [
    "print(xoff_sci_asec[29], yoff_sci_asec[29])\n",
    "print(xoff_sci_asec[31], yoff_sci_asec[31])"
   ]
  },
  {
   "cell_type": "code",
   "execution_count": 26,
   "id": "comfortable-jacob",
   "metadata": {},
   "outputs": [
    {
     "name": "stdout",
     "output_type": "stream",
     "text": [
      "0 0.0010398920349311155\n",
      "1 0.0010407381283255312\n",
      "2 0.0010413961679559957\n",
      "3 0.0010413203470141582\n",
      "4 0.0010413730186815803\n",
      "5 0.0010412061767173764\n",
      "6 0.0010409107125466475\n",
      "7 0.0010410550826118802\n",
      "8 0.0010489682431460688\n",
      "9 0.0010485693758985333\n",
      "10 0.0010503770129828254\n",
      "11 0.0010492539485348392\n",
      "12 0.001048893532613853\n",
      "13 0.0010499783275186847\n",
      "14 0.0010478376432817885\n",
      "15 0.001163632693302384\n",
      "16 0.0011904673740943074\n",
      "17 0.0011623459196221499\n",
      "18 0.0011679861993424405\n",
      "19 0.0011717153337127883\n",
      "20 0.0011662991733154473\n",
      "21 0.001188161259423465\n",
      "22 0.018591620001240122\n",
      "23 0.02268154306251608\n",
      "24 0.018413983172651388\n",
      "25 0.020331600188052384\n",
      "26 0.02035076740544235\n",
      "27 0.018431383359924378\n",
      "28 0.02269601257057709\n",
      "29 0.1249723796572471\n",
      "30 0.12601376647008355\n",
      "31 0.1279792491458024\n",
      "32 0.12788600328762842\n",
      "33 0.1278980091323295\n",
      "34 0.128012023348338\n",
      "35 0.12603647018037092\n",
      "36 0.1804986454076035\n",
      "37 0.18113743462345114\n",
      "38 0.18082160014712595\n",
      "39 0.1811394898104704\n",
      "40 0.1811403758431533\n",
      "41 0.18082254399133307\n",
      "42 0.18113772560662933\n",
      "43 0.18103763813447127\n",
      "44 0.18087730046640665\n",
      "45 0.180891321326723\n",
      "46 0.1809134774950371\n",
      "47 0.18091433599780984\n",
      "48 0.18089208320619846\n",
      "49 0.1808776226175813\n"
     ]
    }
   ],
   "source": [
    "for i in range(len(hdul_psfs)):\n",
    "    hdu = hdul_psfs[i]\n",
    "    data = hdu.data\n",
    "    print(i, data.sum())"
   ]
  },
  {
   "cell_type": "code",
   "execution_count": null,
   "id": "superior-typing",
   "metadata": {},
   "outputs": [],
   "source": [
    "inst.calc_psf"
   ]
  },
  {
   "cell_type": "code",
   "execution_count": 28,
   "id": "swiss-stress",
   "metadata": {},
   "outputs": [
    {
     "data": {
      "text/plain": [
       "<matplotlib.image.AxesImage at 0x7f94118fc550>"
      ]
     },
     "execution_count": 28,
     "metadata": {},
     "output_type": "execute_result"
    },
    {
     "data": {
      "image/png": "[encoded data removed]",
      "text/plain": [
       "<Figure size 576x432 with 1 Axes>"
      ]
     },
     "metadata": {
      "needs_background": "light"
     },
     "output_type": "display_data"
    }
   ],
   "source": [
    "plt.imshow(hdul_psfs[31].data - hdul_psfs[29].data)"
   ]
  },
  {
   "cell_type": "code",
   "execution_count": 49,
   "id": "applicable-joseph",
   "metadata": {},
   "outputs": [
    {
     "name": "stdout",
     "output_type": "stream",
     "text": [
      "[ 0.         -0.78183148 -0.97492791 -0.43388374  0.43388374  0.97492791\n",
      "  0.78183148] [ 1.          0.6234898  -0.22252093 -0.90096887 -0.90096887 -0.22252093\n",
      "  0.6234898 ]\n",
      "(160.5, 156.60091972999547) (176.20798061768707, 176.0378781907278)\n"
     ]
    }
   ],
   "source": [
    "print(xgrid_off[29:36], ygrid_off[29:36])\n",
    "print((xsci[29], ysci[29]), (xsci[31], ysci[31]))"
   ]
  },
  {
   "cell_type": "code",
   "execution_count": 141,
   "id": "oriented-denial",
   "metadata": {},
   "outputs": [],
   "source": [
    "from webbpsf_ext.coords import xy_rot, xy_to_rtheta\n",
    "\n",
    "detector_position_orig = np.array([973.5, 1673.5])\n",
    "siaf_ap_orig = inst.siaf[inst.aperturename]\n",
    "\n",
    "v2_1, v3_1 = hdul_psfs[29].header['XVAL'], hdul_psfs[29].header['YVAL']\n",
    "v2_2, v3_2 = hdul_psfs[31].header['XVAL'], hdul_psfs[31].header['YVAL']\n",
    "\n",
    "# Detector position\n",
    "xysci0 = np.array(siaf_ap_orig.reference_point('sci'))\n",
    "xysci1 = np.array(siaf_ap_orig.convert(v2_1, v3_1, 'tel', 'sci'))\n",
    "xysci2 = np.array(siaf_ap_orig.convert(v2_2, v3_2, 'tel', 'sci'))\n",
    "\n",
    "# Offset in arcsec\n",
    "xyoff1_asec = (xysci1 - xysci0) * inst.pixelscale\n",
    "xyoff2_asec = (xysci2 - xysci0) * inst.pixelscale\n",
    "\n",
    "# Mask shifting\n",
    "field_rot = 0 if inst._rotation is None else inst._rotation\n",
    "xyoff1_mask = np.array(xy_rot(-1*xyoff1_asec[0], -1*xyoff1_asec[1], field_rot))\n",
    "xyoff2_mask = np.array(xy_rot(-1*xyoff2_asec[0], -1*xyoff2_asec[1], field_rot))"
   ]
  },
  {
   "cell_type": "code",
   "execution_count": 163,
   "id": "virgin-reviewer",
   "metadata": {},
   "outputs": [
    {
     "name": "stdout",
     "output_type": "stream",
     "text": [
      "webbpsf_ext log messages of level WARN and above will be shown.\n",
      "webbpsf_ext log outputs will be directed to the screen.\n",
      "webbpsf_ext log messages of level INFO and above will be shown.\n",
      "webbpsf_ext log outputs will be directed to the screen.\n"
     ]
    }
   ],
   "source": [
    "webbpsf_ext.setup_logging('warn')\n",
    "\n",
    "inst.options['coron_shift_x'] = xyoff1_mask[0]\n",
    "inst.options['coron_shift_y'] = xyoff1_mask[1]\n",
    "inst.detector_position = xysci1\n",
    "\n",
    "inst.include_si_wfe = True\n",
    "psf1 = inst.calc_psf(fov_pixels=256, oversample=2, add_distortion=True)\n",
    "\n",
    "inst.options['coron_shift_x'] = xyoff2_mask[0]\n",
    "inst.options['coron_shift_y'] = xyoff2_mask[1]\n",
    "inst.detector_position = xysci2\n",
    "\n",
    "psf2 = inst.calc_psf(fov_pixels=256, oversample=2, add_distortion=True, monochromatic=4.5e-6)\n",
    "\n",
    "webbpsf_ext.setup_logging('info')"
   ]
  },
  {
   "cell_type": "code",
   "execution_count": 154,
   "id": "moral-wisconsin",
   "metadata": {},
   "outputs": [
    {
     "data": {
      "text/plain": [
       "True"
      ]
     },
     "execution_count": 154,
     "metadata": {},
     "output_type": "execute_result"
    }
   ],
   "source": [
    "inst.include_si_wfe"
   ]
  },
  {
   "cell_type": "code",
   "execution_count": 165,
   "id": "terminal-worship",
   "metadata": {},
   "outputs": [
    {
     "data": {
      "text/plain": [
       "<matplotlib.image.AxesImage at 0x7fb46002f310>"
      ]
     },
     "execution_count": 165,
     "metadata": {},
     "output_type": "execute_result"
    },
    {
     "data": {
      "image/png": "[encoded data removed]",
      "text/plain": [
       "<Figure size 576x432 with 1 Axes>"
      ]
     },
     "metadata": {
      "needs_background": "light"
     },
     "output_type": "display_data"
    }
   ],
   "source": [
    "plt.imshow(psf1[0].data - hdul_psfs[29].data)"
   ]
  },
  {
   "cell_type": "code",
   "execution_count": 133,
   "id": "million-religion",
   "metadata": {},
   "outputs": [
    {
     "data": {
      "text/plain": [
       "(array([ 973.4983896 , 1657.59919523]), array([ 989.20622674, 1677.0365447 ]))"
      ]
     },
     "execution_count": 133,
     "metadata": {},
     "output_type": "execute_result"
    }
   ],
   "source": [
    "xyoff1, xyoff2"
   ]
  },
  {
   "cell_type": "code",
   "execution_count": 87,
   "id": "every-candidate",
   "metadata": {},
   "outputs": [],
   "source": []
  },
  {
   "cell_type": "code",
   "execution_count": 99,
   "id": "inclusive-accountability",
   "metadata": {},
   "outputs": [
    {
     "name": "stdout",
     "output_type": "stream",
     "text": [
      "[   webbpsf:INFO] MIRI SIAF aperture name updated to MIRIM_FULL\n",
      "[   webbpsf:INFO] MIRI SIAF aperture name updated to MIRIM_CORON1550\n"
     ]
    }
   ],
   "source": [
    "inst2 = webbpsf_ext.MIRI_ext(filter='F1550C', pupil_mask='MASKFQPM', image_mask='FQPM1550')\n",
    "inst2.options['coron_shift_y'] = 0 #5\n",
    "\n",
    "x_new, y_new = xy_rot(-1*0, -1*5, -1*inst2._rotation)\n",
    "rnew, thnew = xy_to_rtheta(x_new, y_new)\n",
    "\n",
    "inst2.options['source_offset_r'] = 5        \n",
    "inst2.options['source_offset_theta'] = thnew"
   ]
  },
  {
   "cell_type": "code",
   "execution_count": 104,
   "id": "becoming-thunder",
   "metadata": {},
   "outputs": [
    {
     "data": {
      "text/plain": [
       "array([1.78268834e-15, 5.00000000e+00])"
      ]
     },
     "execution_count": 104,
     "metadata": {},
     "output_type": "execute_result"
    }
   ],
   "source": [
    "np.array(xy_rot(-1*x_new, -1*y_new, inst2._rotation))"
   ]
  },
  {
   "cell_type": "code",
   "execution_count": null,
   "id": "statistical-tragedy",
   "metadata": {},
   "outputs": [],
   "source": [
    "np.array(xy_rot(-1*xoff[i], -1*yoff[i], -field_rot))"
   ]
  },
  {
   "cell_type": "code",
   "execution_count": 102,
   "id": "identical-andrews",
   "metadata": {},
   "outputs": [
    {
     "data": {
      "text/plain": [
       "(-0.3879193563326856, -4.984929144228876)"
      ]
     },
     "execution_count": 102,
     "metadata": {},
     "output_type": "execute_result"
    }
   ],
   "source": [
    "x_new, y_new"
   ]
  },
  {
   "cell_type": "code",
   "execution_count": 84,
   "id": "settled-donor",
   "metadata": {},
   "outputs": [
    {
     "name": "stdout",
     "output_type": "stream",
     "text": [
      "[     poppy:INFO] Monochromatic calculation requested.\n",
      "[     poppy:INFO] PSF calc using fov_pixels = 129, oversample = 2, number of wavelengths = 1\n",
      "[   webbpsf:INFO] Creating optical system model:\n",
      "[     poppy:INFO] Initialized OpticalSystem: JWST+MIRI\n",
      "[     poppy:INFO] JWST Entrance Pupil: Loaded amplitude transmission from /Users/Jarron/NIRCam/webbpsf-data/jwst_pupil_RevW_npix1024.fits.gz\n",
      "[     poppy:INFO] JWST Entrance Pupil: Loaded OPD from  /Users/Jarron/NIRCam/webbpsf-data/MIRI/OPD/OPD_RevW_ote_for_MIRI_predicted.fits.gz, plane 0\n",
      "[     poppy:INFO] Added pupil plane: JWST Entrance Pupil\n",
      "[     poppy:INFO] Added coordinate inversion plane: OTE exit pupil\n",
      "[     poppy:INFO] Added rotation plane: Rotation by -4.45 degrees\n",
      "[     poppy:INFO] Added pupil plane: FQPM FFT aligner\n",
      "[     poppy:INFO] Added image plane: MIRI FQPM 1550\n",
      "[     poppy:INFO] Added pupil plane: FQPM FFT aligner\n",
      "[   webbpsf:INFO] Setting Lyot pupil shift to (-0.0455639016, -0.0178293528)\n",
      "[     poppy:INFO] MASKFQPM: Loaded amplitude transmission from /Users/Jarron/NIRCam/webbpsf-data/MIRI/optics/MIRI_FQPMLyotStop.fits.gz\n",
      "[     poppy:INFO] Requested optic shift of (-0.046, -0.018) meters\n",
      "[     poppy:INFO] Actual shift applied  = (-7.000, -2.000) pixels\n",
      "[     poppy:INFO] Added pupil plane: MASKFQPM\n",
      "[     poppy:INFO] Added rotation plane: Rotation by -4.45 degrees\n",
      "[     poppy:INFO] Added detector with pixelscale=0.111 and oversampling=2: MIRI detector\n",
      "[     poppy:INFO] Calculating PSF with 1 wavelengths\n",
      "[     poppy:INFO]  Propagating wavelength = 1.55e-05 m\n",
      "[     poppy:INFO]   Calculation completed in 1.039 s\n",
      "[     poppy:INFO] PSF Calculation completed.\n",
      "[   webbpsf:INFO] Calculating jitter using None\n",
      "[     poppy:INFO]  Adding extension with image downsampled to detector pixel scale.\n",
      "[     poppy:INFO]  Downsampling to detector pixel scale, by 2\n"
     ]
    }
   ],
   "source": [
    "psf = inst2.calc_psf(monochromatic=15.5e-6, fov_pixels=129, oversample=2, add_distortion=False)"
   ]
  },
  {
   "cell_type": "code",
   "execution_count": 101,
   "id": "breeding-modeling",
   "metadata": {},
   "outputs": [
    {
     "data": {
      "text/plain": [
       "<matplotlib.image.AxesImage at 0x7fb570b4e950>"
      ]
     },
     "execution_count": 101,
     "metadata": {},
     "output_type": "execute_result"
    },
    {
     "data": {
      "image/png": "[encoded data removed]",
      "text/plain": [
       "<Figure size 576x432 with 1 Axes>"
      ]
     },
     "metadata": {
      "needs_background": "light"
     },
     "output_type": "display_data"
    }
   ],
   "source": [
    "plt.imshow(psf2[0].data)"
   ]
  },
  {
   "cell_type": "code",
   "execution_count": 58,
   "id": "minor-cancellation",
   "metadata": {},
   "outputs": [],
   "source": [
    "siaf_ap_miri = inst2.siaf[inst2.aperturename]"
   ]
  },
  {
   "cell_type": "code",
   "execution_count": 74,
   "id": "skilled-hygiene",
   "metadata": {},
   "outputs": [
    {
     "data": {
      "text/plain": [
       "(160.4986426527082, 172.4986670173655)"
      ]
     },
     "execution_count": 74,
     "metadata": {},
     "output_type": "execute_result"
    }
   ],
   "source": [
    "siaf_ap.convert(0,0,'idl','sci')"
   ]
  },
  {
   "cell_type": "code",
   "execution_count": 75,
   "id": "criminal-michael",
   "metadata": {},
   "outputs": [
    {
     "data": {
      "text/plain": [
       "(164.89313129875302, 1738.0553752144065)"
      ]
     },
     "execution_count": 75,
     "metadata": {},
     "output_type": "execute_result"
    }
   ],
   "source": [
    "siaf_ap.convert(0,100,'idl','sci')"
   ]
  },
  {
   "cell_type": "code",
   "execution_count": 52,
   "id": "finished-fundamental",
   "metadata": {},
   "outputs": [
    {
     "data": {
      "text/plain": [
       "'NRCA5_MASK430R'"
      ]
     },
     "execution_count": 52,
     "metadata": {},
     "output_type": "execute_result"
    }
   ],
   "source": [
    "siaf_ap.AperName"
   ]
  },
  {
   "cell_type": "code",
   "execution_count": 55,
   "id": "constant-pittsburgh",
   "metadata": {},
   "outputs": [
    {
     "data": {
      "text/plain": [
       "(973.4986426527082, 1673.4986670173655)"
      ]
     },
     "execution_count": 55,
     "metadata": {},
     "output_type": "execute_result"
    }
   ],
   "source": [
    "siaf_ap2.reference_point('sci')"
   ]
  },
  {
   "cell_type": "code",
   "execution_count": 54,
   "id": "leading-opinion",
   "metadata": {},
   "outputs": [
    {
     "data": {
      "text/plain": [
       "(973.4983895976736, 1657.5991952299644)"
      ]
     },
     "execution_count": 54,
     "metadata": {},
     "output_type": "execute_result"
    }
   ],
   "source": [
    "siaf_ap2 = inst.siaf[inst.aperturename]\n",
    "siaf_ap2.convert(87.0994843109966, -406.2905729490961, 'tel', 'sci')"
   ]
  },
  {
   "cell_type": "code",
   "execution_count": null,
   "id": "scientific-royal",
   "metadata": {},
   "outputs": [],
   "source": [
    "XVAL    =     87.0994843109966 / [arcsec] Input X coordinate                    \n",
    "YVAL    =   -406.2905729490961 / [arcsec] Input Y coordinate "
   ]
  },
  {
   "cell_type": "code",
   "execution_count": 51,
   "id": "negative-clark",
   "metadata": {},
   "outputs": [
    {
     "data": {
      "text/plain": [
       "XTENSION= 'IMAGE   '           / Image extension                                \n",
       "BITPIX  =                  -64 / array data type                                \n",
       "NAXIS   =                    2 / number of array dimensions                     \n",
       "NAXIS1  =                  512                                                  \n",
       "NAXIS2  =                  512                                                  \n",
       "PCOUNT  =                    0 / number of parameters                           \n",
       "GCOUNT  =                    1 / number of groups                               \n",
       "DESCR   = 'PSF Coeffecients'   / File Description                               \n",
       "NWAVES  =                   10 / Number of wavelengths used in calculation      \n",
       "EXTNAME = 'OVERSAMP'           / This extension is oversampled.                 \n",
       "OVERSAMP=                    2 / Oversampling factor for FFTs in computation    \n",
       "DET_SAMP=                    2 / Oversampling factor for MFT to detector plane  \n",
       "PIXELSCL=               0.0315 / Scale in arcsec/pix (after oversampling)       \n",
       "FOV     =               16.128 / Field of view in arcsec (full array)           \n",
       "INSTRUME= 'NIRCam  '           / Instrument                                     \n",
       "FILTER  = 'F444W   '           / Filter name                                    \n",
       "PUPIL   = 'CIRCLYOT'           / Pupil plane mask                               \n",
       "CORONMSK= 'MASK430R'           / Image plane mask                               \n",
       "WAVELEN =              2.4E-06 / Weighted mean wavelength in meters             \n",
       "DIFFLMT =  0.07496603827824778 / Diffraction limit lambda/D in arcsec           \n",
       "APERNAME= 'NRCA5_FULL_MASK430R' / SIAF aperture name                            \n",
       "MODULE  = 'A       '           / NIRCam module: A or B                          \n",
       "CHANNEL = 'Long    '           / NIRCam channel: long or short                  \n",
       "PILIN   = 'False   '           / Pupil imaging lens in optical path: T/F        \n",
       "DET_NAME= 'NRCA5   '           / Name of detector on this instrument            \n",
       "DET_X   =                973.5 / Detector X pixel position of array center      \n",
       "DET_Y   =               1673.5 / Detector Y pixel position of array center      \n",
       "DET_V2  =    1.451706866666667 / [arcmin] Det. pos. in telescope V2,V3 coord sys\n",
       "DET_V3  =           -6.7548441 / [arcmin] Det. pos. in telescope V2,V3 coord sys\n",
       "PUPILINT= 'pupil from supplied OpticalElement: Pupil plane: Modified from &'    \n",
       "CONTINUE  'OPD_RevW_ote_for_NIRCam_predicted.fits&'                             \n",
       "CONTINUE  '' / Pupil aperture intensity source                                  \n",
       "PUPILOPD= 'OPD_RevW_ote_for_NIRCam_predicted.fits' / Original Pupil OPD source  \n",
       "OPD_FILE= 'Pupil plane: Modified from OPD_RevW_ote_for_NIRCam_predicted.fits' / \n",
       "OPDSLICE=                    0 / OPD slice index                                \n",
       "TEL_WFE =    86.82226144224359 / [nm] Telescope pupil RMS wavefront error       \n",
       "SI_WFE  =    151.7598683483961 / [nm] instrument pupil RMS wavefront error      \n",
       "SIWFETYP= 'Interpolated'       / SI WFE was interpolated between available meas.\n",
       "SIWFEFPT= 'Z430R_A '           / Closest ISIM CV3 WFE meas. field point         \n",
       "ROTATION=            0.1691492 / PSF rotated to match detector rotation         \n",
       "DISTORT = 'True    '           / SIAF distortion coefficients applied           \n",
       "SIAF_VER= 'PRDOPSSOC-034'      / SIAF PRD version used                          \n",
       "NORMALIZ= 'first   '           / PSF normalization method                       \n",
       "FFTTYPE = 'numpy.fft'          / Algorithm for FFTs: numpy or fftw              \n",
       "AUTHOR  = 'jarron@Usul.local'  / username@host for calculation                  \n",
       "DATE    = '2021-04-09T05:42:21' / Date of calculation                           \n",
       "VERSION = '0.9.1.dev93+ga065f01' / WebbPSF software version                     \n",
       "DATAVERS= '0.9.0   '           / WebbPSF reference data files version           \n",
       "WEXTVERS= '0.9.1dev'           / webbpsf_ext version                            \n",
       "                                                                                \n",
       "        gen_psf_coeff() Parameters                                              \n",
       "                                                                                \n",
       "FOVPIX  =                  256 / WebbPSF pixel FoV                              \n",
       "OSAMP   =                    2 / WebbPSF pixel oversample                       \n",
       "NPSF    =                   10 / Number of wavelengths to calc                  \n",
       "NDEG    =                    9 / Polynomial fit degree                          \n",
       "WAVE1   =                  2.4 / First wavelength in calc                       \n",
       "WAVE2   =                  5.1 / Last of wavelength in calc                     \n",
       "LEGNDR  =                    T / Legendre polynomial fit?                       \n",
       "OFFR    = 'None    '           / Radial offset                                  \n",
       "OFFTH   = 'None    '           / Position angle OFFR (CCW)                      \n",
       "MASKOFFX=                    0 / Image mask shift in x (arcsec)                 \n",
       "MASKOFFY=                    0 / Image mask shift in y (arcsec)                 \n",
       "JITRTYPE= 'None    '           / Type of jitter applied                         \n",
       "JITRSIGM=                0.003 / Jitter sigma [mas]                             \n",
       "OPD     = 'OTE Linear Model'   / Telescope OPD                                  \n",
       "WFEDRIFT=                    0 / [nm] WFE drift amplitude                       \n",
       "OTETHMDL= 'BOL     '           / OTE Thermal slew model case                    \n",
       "OTETHSTA= 'None    '           / OTE Starting pitch angle for thermal slew model\n",
       "OTETHEND= 'None    '           / OTE Ending pitch angle for thermal slew model  \n",
       "OTETHRDT= 'None    '           / OTE Thermal slew model delta time after slew   \n",
       "OTETHRWF=                    0 / OTE WFE amplitude from 'thermal slew' term     \n",
       "OTEFRLWF=                    0 / OTE WFE amplitude from 'frill tension' term    \n",
       "OTEIECWF=                    0 / OTE WFE amplitude from 'IEC thermal cycling'   \n",
       "SIWFE   =                    T / Was SI WFE included?                           \n",
       "FORCE   =                    T / Forced calculations?                           \n",
       "SAVE    =                    T / Was file saved to disk?                        \n",
       "FILENAME= 'LWA_CIRCLYOT_MASK430R_pix256_os2_jsig0_r0.00_th+0.0_RevWslice0_siwf&'\n",
       "CONTINUE  'e_distort_legendre.fits&'                                            \n",
       "CONTINUE  '' / File save name                                                   \n",
       "XVAL    =     87.0994843109966 / [arcsec] Input X coordinate                    \n",
       "YVAL    =   -406.2905729490961 / [arcsec] Input Y coordinate                    \n",
       "CFRAME  = 'tel     '           / Specified coordinate frame                     \n",
       "HISTORY Took 14.69 seconds to generate WebbPSF images                           "
      ]
     },
     "execution_count": 51,
     "metadata": {},
     "output_type": "execute_result"
    }
   ],
   "source": [
    "hdul_psfs[29].header"
   ]
  },
  {
   "cell_type": "code",
   "execution_count": null,
   "id": "according-translation",
   "metadata": {},
   "outputs": [],
   "source": [
    "psf1 = inst.calc_psf()"
   ]
  },
  {
   "cell_type": "code",
   "execution_count": 25,
   "id": "caroline-measure",
   "metadata": {},
   "outputs": [
    {
     "data": {
      "text/plain": [
       "<matplotlib.image.AxesImage at 0x7ff8b26a7650>"
      ]
     },
     "execution_count": 25,
     "metadata": {},
     "output_type": "execute_result"
    },
    {
     "data": {
      "image/png": "[encoded data removed]",
      "text/plain": [
       "<Figure size 576x432 with 1 Axes>"
      ]
     },
     "metadata": {
      "needs_background": "light"
     },
     "output_type": "display_data"
    }
   ],
   "source": [
    "plt.imshow(hdul_psfs[29].data - hdul_psfs[31].data)"
   ]
  },
  {
   "cell_type": "code",
   "execution_count": 49,
   "id": "restricted-terrace",
   "metadata": {},
   "outputs": [],
   "source": [
    "import scipy\n",
    "from scipy import fftpack\n",
    "from astropy.convolution import convolve, convolve_fft\n",
    "\n",
    "psf = hdul_psfs[-1].data\n",
    "im_temp = im_sci.copy()\n",
    "\n",
    "norm = psf.sum()\n",
    "psf = psf / norm\n",
    "res = convolve_fft(im_temp, psf, fftn=fftpack.fftn, ifftn=fftpack.ifftn, allow_huge=True)\n",
    "res *= norm\n",
    "\n",
    "im_conv = res"
   ]
  },
  {
   "cell_type": "code",
   "execution_count": 78,
   "id": "minimal-nightlife",
   "metadata": {},
   "outputs": [],
   "source": [
    "# Add cropped image to final oversampled image\n",
    "im_conv = pad_or_cut_to_size(im_conv, hdul_full[0].data.shape)\n",
    "hdul_full[0].data = im_conv"
   ]
  },
  {
   "cell_type": "code",
   "execution_count": 79,
   "id": "adult-premium",
   "metadata": {},
   "outputs": [],
   "source": [
    "def quick_ref_psf(idl_coord, inst, tel_point, out_shape, sp=None):\n",
    "    \"\"\"\n",
    "    Create a quick reference PSF for subtraction of the science target.\n",
    "    \"\"\"\n",
    "    \n",
    "    # Observed SIAF aperture\n",
    "    siaf_ap = tel_point.siaf_ap_obs\n",
    "    \n",
    "    # Location of observation\n",
    "    xidl, yidl = idl_coord\n",
    "    \n",
    "    # Get offset in SCI pixels\n",
    "    xsci_off, ysci_off = np.array(siaf_ap.convert(xidl, yidl, 'idl', 'sci')) - \\\n",
    "                         np.array(siaf_ap.reference_point('sci'))\n",
    "    \n",
    "    # Get oversampled pixels offests\n",
    "    osamp = inst.oversample\n",
    "    xsci_off_over, ysci_off_over = np.array([xsci_off, ysci_off]) * osamp\n",
    "    yx_offset = (ysci_off_over, xsci_off_over)\n",
    "    \n",
    "    # Create PSF\n",
    "    prev_log = webbpsf_ext.conf.logging_level\n",
    "    setup_logging('WARN', verbose=False)\n",
    "    xtel, ytel = siaf_ap.convert(xidl, yidl, 'idl', 'tel')\n",
    "    hdul_psf_ref = inst.calc_psf_from_coeff(sp=sp, coord_vals=(xtel, ytel), coord_frame='tel')\n",
    "    setup_logging(prev_log, verbose=False)\n",
    "\n",
    "    im_psf = pad_or_cut_to_size(hdul_psf_ref[0].data, out_shape, offset_vals=yx_offset)\n",
    "\n",
    "    return im_psf"
   ]
  },
  {
   "cell_type": "code",
   "execution_count": 80,
   "id": "worst-poison",
   "metadata": {},
   "outputs": [],
   "source": [
    "\n",
    "\n",
    "# Subtract a reference PSF from the science data\n",
    "coord_vals = tel_point.position_offsets_act[0]\n",
    "im_psf = quick_ref_psf(coord_vals, inst, tel_point, hdul_full[0].data.shape, sp=sp_star)\n",
    "im_ref = image_manip.frebin(im_psf, scale=1/osamp)\n",
    "\n",
    "# Rebin science data to detector pixels\n",
    "im_sci = image_manip.frebin(hdul_full[0].data, scale=1/osamp) + im_ref\n",
    "imdiff = im_sci - im_ref\n",
    "\n",
    "# De-rotate to sky orientation\n",
    "imrot = image_manip.rotate_offset(imdiff, rotate_to_idl, reshape=False, cval=np.nan)"
   ]
  },
  {
   "cell_type": "code",
   "execution_count": 83,
   "id": "changing-activity",
   "metadata": {},
   "outputs": [
    {
     "data": {
      "image/png": "[encoded data removed]",
      "text/plain": [
       "<Figure size 864x324 with 3 Axes>"
      ]
     },
     "metadata": {
      "needs_background": "light"
     },
     "output_type": "display_data"
    }
   ],
   "source": [
    "from matplotlib.colors import LogNorm\n",
    "from webbpsf_ext.coords import plotAxes\n",
    "\n",
    "fig, axes = plt.subplots(1,3, figsize=(12,4.5))\n",
    "\n",
    "############################\n",
    "# Plot raw image\n",
    "ax = axes[0]\n",
    "\n",
    "im = im_sci\n",
    "mn = np.median(im)\n",
    "std = np.std(im)\n",
    "vmin = 0\n",
    "vmax = mn+10*std\n",
    "\n",
    "xsize_asec = siaf_ap.XSciSize * siaf_ap.XSciScale\n",
    "ysize_asec = siaf_ap.YSciSize * siaf_ap.YSciScale\n",
    "extent = [-1*xsize_asec/2, xsize_asec/2, -1*ysize_asec/2, ysize_asec/2]\n",
    "norm = LogNorm(vmin=im.max()/1e5, vmax=im.max())\n",
    "ax.imshow(im, extent=extent, norm=norm)\n",
    "\n",
    "ax.set_title(\"Raw Image (log scale)\")\n",
    "\n",
    "ax.set_xlabel('XSci (arcsec)')\n",
    "ax.set_ylabel('YSci (arcsec)')\n",
    "plotAxes(ax, angle=-1*siaf_ap.V3SciYAngle)\n",
    "\n",
    "############################\n",
    "# Basic PSF subtraction\n",
    "# Subtract a near-perfect reference PSF\n",
    "ax = axes[1]\n",
    "norm = LogNorm(vmin=imdiff.max()/1e5, vmax=imdiff.max())\n",
    "ax.imshow(imdiff, extent=extent, norm=norm)\n",
    "\n",
    "ax.set_title(\"PSF Subtracted (log scale)\")\n",
    "\n",
    "ax.set_xlabel('XSci (arcsec)')\n",
    "ax.set_ylabel('YSci (arcsec)')\n",
    "plotAxes(ax, angle=-1*siaf_ap.V3SciYAngle)\n",
    "\n",
    "############################\n",
    "# De-rotate to sky orientation\n",
    "\n",
    "ax = axes[2]\n",
    "ax.imshow(imrot, extent=extent, norm=norm)\n",
    "\n",
    "ax.set_title(\"De-Rotated (log scale)\")\n",
    "\n",
    "ax.set_xlabel('RA offset (arcsec)')\n",
    "ax.set_ylabel('Dec offset (arcsec)')\n",
    "plotAxes(ax, position=(0.95,0.35), label1='E', label2='N')\n",
    "\n",
    "for i, ax in enumerate(axes.flatten()):\n",
    "    ax.xaxis.get_major_locator().set_params(nbins=7, steps=[1, 2, 5, 10])\n",
    "    ax.yaxis.get_major_locator().set_params(nbins=7, steps=[1, 2, 5, 10])\n",
    "\n",
    "fig.suptitle(f\"Fomalhaut ({siaf_ap.AperName})\", fontsize=14)\n",
    "fig.tight_layout()"
   ]
  },
  {
   "cell_type": "code",
   "execution_count": 1,
   "id": "acute-vertical",
   "metadata": {},
   "outputs": [
    {
     "ename": "NameError",
     "evalue": "name 'plt' is not defined",
     "output_type": "error",
     "traceback": [
      "\u001b[0;31m---------------------------------------------------------------------------\u001b[0m",
      "\u001b[0;31mNameError\u001b[0m                                 Traceback (most recent call last)",
      "\u001b[0;32m<ipython-input-1-b467d3fc01ac>\u001b[0m in \u001b[0;36m<module>\u001b[0;34m\u001b[0m\n\u001b[1;32m      2\u001b[0m \u001b[0;32mfrom\u001b[0m \u001b[0mwebbpsf_ext\u001b[0m\u001b[0;34m.\u001b[0m\u001b[0mcoords\u001b[0m \u001b[0;32mimport\u001b[0m \u001b[0mplotAxes\u001b[0m\u001b[0;34m\u001b[0m\u001b[0;34m\u001b[0m\u001b[0m\n\u001b[1;32m      3\u001b[0m \u001b[0;34m\u001b[0m\u001b[0m\n\u001b[0;32m----> 4\u001b[0;31m \u001b[0mfig\u001b[0m\u001b[0;34m,\u001b[0m \u001b[0maxes\u001b[0m \u001b[0;34m=\u001b[0m \u001b[0mplt\u001b[0m\u001b[0;34m.\u001b[0m\u001b[0msubplots\u001b[0m\u001b[0;34m(\u001b[0m\u001b[0;36m1\u001b[0m\u001b[0;34m,\u001b[0m\u001b[0;36m3\u001b[0m\u001b[0;34m,\u001b[0m \u001b[0mfigsize\u001b[0m\u001b[0;34m=\u001b[0m\u001b[0;34m(\u001b[0m\u001b[0;36m12\u001b[0m\u001b[0;34m,\u001b[0m\u001b[0;36m4.5\u001b[0m\u001b[0;34m)\u001b[0m\u001b[0;34m)\u001b[0m\u001b[0;34m\u001b[0m\u001b[0;34m\u001b[0m\u001b[0m\n\u001b[0m\u001b[1;32m      5\u001b[0m \u001b[0;34m\u001b[0m\u001b[0m\n\u001b[1;32m      6\u001b[0m \u001b[0;31m############################\u001b[0m\u001b[0;34m\u001b[0m\u001b[0;34m\u001b[0m\u001b[0;34m\u001b[0m\u001b[0m\n",
      "\u001b[0;31mNameError\u001b[0m: name 'plt' is not defined"
     ]
    }
   ],
   "source": [
    "from matplotlib.colors import LogNorm\n",
    "from webbpsf_ext.coords import plotAxes\n",
    "\n",
    "fig, axes = plt.subplots(1,3, figsize=(12,4.5))\n",
    "\n",
    "############################\n",
    "# Plot raw image\n",
    "ax = axes[0]\n",
    "\n",
    "im = im_sci\n",
    "mn = np.median(im)\n",
    "std = np.std(im)\n",
    "vmin = 0\n",
    "vmax = mn+10*std\n",
    "\n",
    "xsize_asec = siaf_ap.XSciSize * siaf_ap.XSciScale\n",
    "ysize_asec = siaf_ap.YSciSize * siaf_ap.YSciScale\n",
    "extent = [-1*xsize_asec/2, xsize_asec/2, -1*ysize_asec/2, ysize_asec/2]\n",
    "norm = LogNorm(vmin=im.max()/1e5, vmax=im.max())\n",
    "ax.imshow(im, extent=extent, norm=norm)\n",
    "\n",
    "ax.set_title(\"Raw Image (log scale)\")\n",
    "\n",
    "ax.set_xlabel('XSci (arcsec)')\n",
    "ax.set_ylabel('YSci (arcsec)')\n",
    "plotAxes(ax, angle=-1*siaf_ap.V3SciYAngle)\n",
    "\n",
    "############################\n",
    "# Basic PSF subtraction\n",
    "# Subtract a near-perfect reference PSF\n",
    "ax = axes[1]\n",
    "norm = LogNorm(vmin=imdiff.max()/1e5, vmax=imdiff.max())\n",
    "ax.imshow(imdiff, extent=extent, norm=norm)\n",
    "\n",
    "ax.set_title(\"PSF Subtracted (log scale)\")\n",
    "\n",
    "ax.set_xlabel('XSci (arcsec)')\n",
    "ax.set_ylabel('YSci (arcsec)')\n",
    "plotAxes(ax, angle=-1*siaf_ap.V3SciYAngle)\n",
    "\n",
    "############################\n",
    "# De-rotate to sky orientation\n",
    "\n",
    "ax = axes[2]\n",
    "ax.imshow(imrot, extent=extent, norm=norm)\n",
    "\n",
    "ax.set_title(\"De-Rotated (log scale)\")\n",
    "\n",
    "ax.set_xlabel('RA offset (arcsec)')\n",
    "ax.set_ylabel('Dec offset (arcsec)')\n",
    "plotAxes(ax, position=(0.95,0.35), label1='E', label2='N')\n",
    "\n",
    "for i, ax in enumerate(axes.flatten()):\n",
    "    ax.xaxis.get_major_locator().set_params(nbins=7, steps=[1, 2, 5, 10])\n",
    "    ax.yaxis.get_major_locator().set_params(nbins=7, steps=[1, 2, 5, 10])\n",
    "\n",
    "fig.suptitle(f\"Fomalhaut ({siaf_ap.AperName})\", fontsize=14)\n",
    "fig.tight_layout()"
   ]
  },
  {
   "cell_type": "code",
   "execution_count": 56,
   "id": "apart-deposit",
   "metadata": {},
   "outputs": [],
   "source": [
    "# Save image to FITS file\n",
    "hdu_diff = fits.PrimaryHDU(imdiff)\n",
    "\n",
    "copy_keys = [\n",
    "    'PIXELSCL', 'DISTANCE', \n",
    "    'INSTRUME', 'FILTER', 'PUPIL', 'CORONMSK',\n",
    "    'APERNAME', 'MODULE', 'CHANNEL',\n",
    "    'DET_NAME', 'DET_X', 'DET_Y', 'DET_V2', 'DET_V3'\n",
    "]\n",
    "\n",
    "hdr = hdu_diff.header\n",
    "for head_temp in (inst.psf_coeff_header, hdul_out[0].header):\n",
    "    for key in copy_keys:\n",
    "        try:\n",
    "            hdr[key] = (head_temp[key], head_temp.comments[key])\n",
    "        except (AttributeError, KeyError):\n",
    "            pass\n",
    "\n",
    "hdr['PIXELSCL'] = inst.pixelscale"
   ]
  },
  {
   "cell_type": "code",
   "execution_count": 57,
   "id": "recreational-cooperative",
   "metadata": {},
   "outputs": [],
   "source": [
    "name = obj_params['name']\n",
    "\n",
    "outfile = f'Vega/{name}_{inst.aperturename}_.fits'\n",
    "hdu_diff.writeto(outfile, overwrite=True)"
   ]
  },
  {
   "cell_type": "code",
   "execution_count": null,
   "id": "operational-domestic",
   "metadata": {},
   "outputs": [],
   "source": []
  }
 ],
 "metadata": {
  "kernelspec": {
   "display_name": "Python 3",
   "language": "python",
   "name": "python3"
  },
  "language_info": {
   "codemirror_mode": {
    "name": "ipython",
    "version": 3
   },
   "file_extension": ".py",
   "mimetype": "text/x-python",
   "name": "python",
   "nbconvert_exporter": "python",
   "pygments_lexer": "ipython3",
   "version": "3.7.9"
  }
 },
 "nbformat": 4,
 "nbformat_minor": 5
}
