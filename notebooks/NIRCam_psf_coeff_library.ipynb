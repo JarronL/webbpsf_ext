{
 "cells": [
  {
   "cell_type": "code",
   "execution_count": 1,
   "metadata": {},
   "outputs": [],
   "source": [
    "# Import the usual libraries\n",
    "import numpy as np\n",
    "import matplotlib\n",
    "import matplotlib.pyplot as plt\n",
    "\n",
    "# Enable inline plotting\n",
    "%matplotlib inline\n",
    "\n",
    "# Progress bar\n",
    "from tqdm.auto import trange, tqdm"
   ]
  },
  {
   "cell_type": "code",
   "execution_count": 10,
   "metadata": {},
   "outputs": [],
   "source": [
    "import webbpsf_ext, pynrc\n",
    "from astropy.io import fits"
   ]
  },
  {
   "cell_type": "code",
   "execution_count": 53,
   "metadata": {},
   "outputs": [
    {
     "name": "stdout",
     "output_type": "stream",
     "text": [
      "[   webbpsf:INFO] NIRCam aperture name updated to NRCA1_FULL\n",
      "[   webbpsf:INFO] NIRCam pixel scale switched to 0.063000 arcsec/pixel for the long wave channel.\n",
      "[   webbpsf:INFO] NIRCam aperture name updated to NRCA5_FULL\n",
      "[   webbpsf:INFO] NIRCam aperture name updated to NRCB5_FULL\n",
      "[     pynrc:INFO] RAPID readout mode selected.\n",
      "[     pynrc:INFO] Setting ngroup=1, nf=1, nd1=0, nd2=0, nd3=0.\n",
      "[     pynrc:INFO] Initializing SCA 490/B5\n",
      "[     pynrc:INFO] Suggested SIAF aperture name: NRCB5_SUB160P\n",
      "[   webbpsf:INFO] NIRCam aperture name updated to NRCB5_SUB160\n",
      "[   webbpsf:INFO] NIRCam aperture name updated to NRCA1_FULL\n",
      "[   webbpsf:INFO] NIRCam aperture name updated to NRCA3_FULL\n",
      "[   webbpsf:INFO] NIRCam aperture name updated to NRCA3_FP1\n",
      "[     poppy:INFO] OPD from /home/jarronl/NIRCam/webbpsf-data/NIRCam/OPD/wss_target_phase_fp1.fits: Loaded OPD from /home/jarronl/NIRCam/webbpsf-data/NIRCam/OPD/wss_target_phase_fp1.fits\n",
      "[     poppy:INFO] No info supplied on amplitude transmission; assuming uniform throughput = 1\n",
      "[   webbpsf:INFO] Creating optical system model:\n",
      "[     poppy:INFO] Initialized OpticalSystem: JWST+NIRCam\n",
      "[     poppy:INFO] JWST Entrance Pupil: Loaded amplitude transmission from /home/jarronl/NIRCam/webbpsf-data/jwst_pupil_RevW_npix1024.fits.gz\n",
      "[     poppy:INFO] JWST Entrance Pupil: Loaded OPD from /home/jarronl/NIRCam/webbpsf-data/JWST_OTE_OPD_cycle1_example_2022-07-30.fits\n",
      "[   webbpsf:INFO] Loading field dependent model parameters from /home/jarronl/NIRCam/webbpsf-data/NIRCam/OPD/field_dep_table_nircam.fits\n",
      "[   webbpsf:INFO] Calculating field-dependent OTE OPD at v2 = 1.160 arcmin, v3 = -8.598 arcmin\n",
      "[     poppy:INFO] Added pupil plane: JWST Entrance Pupil\n",
      "[     poppy:INFO] Added coordinate inversion plane: OTE exit pupil\n",
      "[     poppy:INFO] Added pupil plane: NIRCamSWA internal WFE at V2V3=(1.16,-8.60)', near MIMF5\n",
      "[     poppy:INFO] Added detector with pixelscale=0.0311 and oversampling=2: NIRCam detector\n",
      "[   webbpsf:INFO] Calculating field-dependent OTE OPD at v2 = 1.160 arcmin, v3 = -8.598 arcmin\n"
     ]
    }
   ],
   "source": [
    "apn = 'NRCB5_SUB160'\n",
    "\n",
    "nrc = pynrc.NIRCam(filter='F410M', apname=apn, autogen_coeffs=False)\n",
    "nrc.aperturename = apn\n",
    "nrc.fov_pix = 155\n",
    "\n",
    "nrc.npsf = 20\n",
    "nrc.ndeg = 10\n",
    "\n",
    "nrc.load_wss_opd_by_date(date='2022-07-29', verbose=False)"
   ]
  },
  {
   "cell_type": "code",
   "execution_count": 54,
   "metadata": {},
   "outputs": [
    {
     "name": "stdout",
     "output_type": "stream",
     "text": [
      "[webbpsf_ext:INFO] Generating but not saving PSF coefficient\n"
     ]
    },
    {
     "data": {
      "application/vnd.jupyter.widget-view+json": {
       "model_id": "1cd9b2e1476f42b2825f2ddeff6931a6",
       "version_major": 2,
       "version_minor": 0
      },
      "text/plain": [
       "Monochromatic PSFs:   0%|          | 0/20 [00:00<?, ?it/s]"
      ]
     },
     "metadata": {},
     "output_type": "display_data"
    },
    {
     "name": "stdout",
     "output_type": "stream",
     "text": [
      "[webbpsf_ext:INFO] Took 5.81 seconds to generate WebbPSF images\n"
     ]
    }
   ],
   "source": [
    "# Generate the PSF coefficients\n",
    "res = nrc.gen_psf_coeff(force=True, save=False, return_results=True, return_extras=True)\n",
    "psf_coeff, psf_coeff_header, extras_dict = res\n",
    "\n",
    "# Set object attributes\n",
    "nrc.psf_coeff = psf_coeff\n",
    "nrc.psf_coeff_header = psf_coeff_header"
   ]
  },
  {
   "cell_type": "code",
   "execution_count": 55,
   "metadata": {},
   "outputs": [],
   "source": [
    "sp = pynrc.stellar_spectrum('G2V', 15, 'vegamag', nrc.bandpass)\n",
    "hdul_im = nrc.calc_psf_from_coeff(sp, return_hdul=True, return_oversample=False)"
   ]
  },
  {
   "cell_type": "code",
   "execution_count": 56,
   "metadata": {},
   "outputs": [],
   "source": [
    "hdul_im.writeto('NRCB5_SUB160_F410M_G2V_2022-07-29.fits', overwrite=True)"
   ]
  },
  {
   "cell_type": "code",
   "execution_count": 62,
   "metadata": {},
   "outputs": [],
   "source": [
    "# Downsample to detector pixels\n",
    "from webbpsf_ext.image_manip import frebin\n",
    "\n",
    "psf_coeff_det = frebin(psf_coeff, scale=1/nrc.oversample)\n",
    "hdu = fits.PrimaryHDU(psf_coeff_det, header=hdul_im[0].header)\n",
    "hdu.writeto('NRCB5_SUB160_F410M_psf-coeff-lib_2022-07-29.fits', overwrite=True)"
   ]
  },
  {
   "cell_type": "code",
   "execution_count": null,
   "metadata": {},
   "outputs": [],
   "source": []
  }
 ],
 "metadata": {
  "kernelspec": {
   "display_name": "base",
   "language": "python",
   "name": "python3"
  },
  "language_info": {
   "codemirror_mode": {
    "name": "ipython",
    "version": 3
   },
   "file_extension": ".py",
   "mimetype": "text/x-python",
   "name": "python",
   "nbconvert_exporter": "python",
   "pygments_lexer": "ipython3",
   "version": "3.9.13"
  },
  "orig_nbformat": 4
 },
 "nbformat": 4,
 "nbformat_minor": 2
}
