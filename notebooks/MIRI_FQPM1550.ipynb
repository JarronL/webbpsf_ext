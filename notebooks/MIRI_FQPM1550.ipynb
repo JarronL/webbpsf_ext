{
 "cells": [
  {
   "cell_type": "markdown",
   "id": "certified-commander",
   "metadata": {},
   "source": [
    "# MIRI FQPM 1550 Observations of Fomalhaut \n",
    "\n",
    "Here we create the basics for a MIRI simulation to observe the Fomalhaut system with the FQPM 1550. This includes simulating the Fomalhaut stellar source behind the center of the phase mask, some fake off-axis companions, and a debris disk model that crosses the mask's quadrant boundaries.\n",
    "\n",
    "From JWST PID 1193, the pointing file provides some the relevant information. Here's a truncated version of the pointing file for the first roll position. In this example, we skip the target acquisition observations and only simulate the science exposure image.\n",
    "```\n",
    "* Fomalhaut-1550C-Rot1 (Obs 6)\n",
    "** Visit 6:1\n",
    "Aperture Name     Target        RA        Dec         V2       V3      IdlX    IdlY   Level    Type \n",
    "MIRIM_TABLOCK     3 FOMALHAU  +344.41269 -29.62224  -407.464 -387.100  +0.000  +0.000 TARGET   T_ACQ \n",
    "MIRIM_TA1550_UR   3 FOMALHAU  +344.41269 -29.62224  -395.471 -365.842  +0.000  +0.000 TARGET   T_ACQ \n",
    "MIRIM_TA1550_CUR  3 FOMALHAU  +344.41269 -29.62224  -391.430 -370.519  +0.122  +0.134 TARGET   T_ACQ \n",
    "MIRIM_MASK1550    3 FOMALHAU  +344.41269 -29.62224  -389.892 -372.181  +0.000  +0.000 TARGET   SCIENCE \n",
    "```\n",
    "\n",
    "Final outputs will be detector-sampled slope images (counts/sec)."
   ]
  },
  {
   "cell_type": "code",
   "execution_count": 1,
   "id": "duplicate-dress",
   "metadata": {},
   "outputs": [],
   "source": [
    "# Import the usual libraries\n",
    "import numpy as np\n",
    "import matplotlib\n",
    "import matplotlib.pyplot as plt\n",
    "#import matplotlib.patches as mpatches\n",
    "\n",
    "# Enable inline plotting\n",
    "%matplotlib inline\n",
    "\n",
    "# Progress bar\n",
    "from tqdm.auto import trange, tqdm\n",
    "\n",
    "# jedi 0.14.1 tab completion fails; will be fixed in 0.14.2\n",
    "import jedi\n",
    "if jedi.__version__ == '0.14.1':\n",
    "    %config Completer.use_jedi = False"
   ]
  },
  {
   "cell_type": "code",
   "execution_count": 2,
   "id": "suspected-covering",
   "metadata": {},
   "outputs": [],
   "source": [
    "import webbpsf_ext, pysiaf\n",
    "from astropy.io import fits"
   ]
  },
  {
   "cell_type": "code",
   "execution_count": 3,
   "id": "desperate-ecuador",
   "metadata": {},
   "outputs": [],
   "source": [
    "from webbpsf_ext import image_manip, setup_logging"
   ]
  },
  {
   "cell_type": "markdown",
   "id": "round-interview",
   "metadata": {},
   "source": [
    "# MIRI Observation with FQPM1550"
   ]
  },
  {
   "cell_type": "markdown",
   "id": "sustained-beast",
   "metadata": {},
   "source": [
    "## Create PSF structure"
   ]
  },
  {
   "cell_type": "code",
   "execution_count": 4,
   "id": "native-partition",
   "metadata": {},
   "outputs": [
    {
     "name": "stdout",
     "output_type": "stream",
     "text": [
      "[   webbpsf:INFO] MIRI SIAF aperture name updated to MIRIM_FULL\n",
      "[   webbpsf:INFO] MIRI SIAF aperture name updated to MIRIM_CORON1550\n"
     ]
    }
   ],
   "source": [
    "# Mask information\n",
    "mask_id = '1550'\n",
    "filt = f'F{mask_id}C'\n",
    "mask = f'FQPM{mask_id}'\n",
    "pupil = 'MASKFQPM'\n",
    "\n",
    "# Initiate instrument class with selected filters, pupil mask, and image mask\n",
    "inst = webbpsf_ext.MIRI_ext(filter=filt, pupil_mask=pupil, image_mask=mask)"
   ]
  },
  {
   "cell_type": "code",
   "execution_count": 5,
   "id": "disciplinary-default",
   "metadata": {},
   "outputs": [],
   "source": [
    "# Set desired PSF size and oversampling\n",
    "inst.fov_pix = 256\n",
    "inst.oversample = 2"
   ]
  },
  {
   "cell_type": "code",
   "execution_count": 6,
   "id": "peaceful-aspect",
   "metadata": {},
   "outputs": [
    {
     "name": "stdout",
     "output_type": "stream",
     "text": [
      "[webbpsf_ext:INFO] Generating and saving PSF coefficient\n"
     ]
    },
    {
     "data": {
      "application/vnd.jupyter.widget-view+json": {
       "model_id": "",
       "version_major": 2,
       "version_minor": 0
      },
      "text/plain": [
       "Single PSFs:   0%|          | 0/14 [00:00<?, ?it/s]"
      ]
     },
     "metadata": {},
     "output_type": "display_data"
    },
    {
     "name": "stdout",
     "output_type": "stream",
     "text": [
      "[webbpsf_ext:INFO] Took 18.41 seconds to generate WebbPSF images\n",
      "[webbpsf_ext:INFO] Saving to /Users/Jarron/NIRCam/webbpsf_ext_data/psf_coeffs/MIRI/F1550C_MASKFQPM_FQPM1550_pix256_os2_jsig0_r0.00_th+0.0_RevWslice0_legendre.fits\n"
     ]
    }
   ],
   "source": [
    "# Calculate PSF coefficients\n",
    "inst.gen_psf_coeff()"
   ]
  },
  {
   "cell_type": "code",
   "execution_count": 9,
   "id": "twelve-balloon",
   "metadata": {},
   "outputs": [
    {
     "name": "stderr",
     "output_type": "stream",
     "text": [
      "[webbpsf_ext:WARNING] Generating mask position-dependent coefficients. This may take some time...\n"
     ]
    },
    {
     "data": {
      "application/vnd.jupyter.widget-view+json": {
       "model_id": "",
       "version_major": 2,
       "version_minor": 0
      },
      "text/plain": [
       "Mask Offsets:   0%|          | 0/100 [00:00<?, ?it/s]"
      ]
     },
     "metadata": {},
     "output_type": "display_data"
    },
    {
     "data": {
      "application/vnd.jupyter.widget-view+json": {
       "model_id": "",
       "version_major": 2,
       "version_minor": 0
      },
      "text/plain": [
       "Single PSFs:   0%|          | 0/14 [00:00<?, ?it/s]"
      ]
     },
     "metadata": {},
     "output_type": "display_data"
    },
    {
     "data": {
      "application/vnd.jupyter.widget-view+json": {
       "model_id": "",
       "version_major": 2,
       "version_minor": 0
      },
      "text/plain": [
       "Single PSFs:   0%|          | 0/14 [00:00<?, ?it/s]"
      ]
     },
     "metadata": {},
     "output_type": "display_data"
    },
    {
     "data": {
      "application/vnd.jupyter.widget-view+json": {
       "model_id": "",
       "version_major": 2,
       "version_minor": 0
      },
      "text/plain": [
       "Single PSFs:   0%|          | 0/14 [00:00<?, ?it/s]"
      ]
     },
     "metadata": {},
     "output_type": "display_data"
    },
    {
     "data": {
      "application/vnd.jupyter.widget-view+json": {
       "model_id": "",
       "version_major": 2,
       "version_minor": 0
      },
      "text/plain": [
       "Single PSFs:   0%|          | 0/14 [00:00<?, ?it/s]"
      ]
     },
     "metadata": {},
     "output_type": "display_data"
    },
    {
     "data": {
      "application/vnd.jupyter.widget-view+json": {
       "model_id": "",
       "version_major": 2,
       "version_minor": 0
      },
      "text/plain": [
       "Single PSFs:   0%|          | 0/14 [00:00<?, ?it/s]"
      ]
     },
     "metadata": {},
     "output_type": "display_data"
    },
    {
     "data": {
      "application/vnd.jupyter.widget-view+json": {
       "model_id": "",
       "version_major": 2,
       "version_minor": 0
      },
      "text/plain": [
       "Single PSFs:   0%|          | 0/14 [00:00<?, ?it/s]"
      ]
     },
     "metadata": {},
     "output_type": "display_data"
    },
    {
     "data": {
      "application/vnd.jupyter.widget-view+json": {
       "model_id": "",
       "version_major": 2,
       "version_minor": 0
      },
      "text/plain": [
       "Single PSFs:   0%|          | 0/14 [00:00<?, ?it/s]"
      ]
     },
     "metadata": {},
     "output_type": "display_data"
    },
    {
     "data": {
      "application/vnd.jupyter.widget-view+json": {
       "model_id": "",
       "version_major": 2,
       "version_minor": 0
      },
      "text/plain": [
       "Single PSFs:   0%|          | 0/14 [00:00<?, ?it/s]"
      ]
     },
     "metadata": {},
     "output_type": "display_data"
    },
    {
     "data": {
      "application/vnd.jupyter.widget-view+json": {
       "model_id": "",
       "version_major": 2,
       "version_minor": 0
      },
      "text/plain": [
       "Single PSFs:   0%|          | 0/14 [00:00<?, ?it/s]"
      ]
     },
     "metadata": {},
     "output_type": "display_data"
    },
    {
     "data": {
      "application/vnd.jupyter.widget-view+json": {
       "model_id": "",
       "version_major": 2,
       "version_minor": 0
      },
      "text/plain": [
       "Single PSFs:   0%|          | 0/14 [00:00<?, ?it/s]"
      ]
     },
     "metadata": {},
     "output_type": "display_data"
    },
    {
     "data": {
      "application/vnd.jupyter.widget-view+json": {
       "model_id": "",
       "version_major": 2,
       "version_minor": 0
      },
      "text/plain": [
       "Single PSFs:   0%|          | 0/14 [00:00<?, ?it/s]"
      ]
     },
     "metadata": {},
     "output_type": "display_data"
    },
    {
     "data": {
      "application/vnd.jupyter.widget-view+json": {
       "model_id": "",
       "version_major": 2,
       "version_minor": 0
      },
      "text/plain": [
       "Single PSFs:   0%|          | 0/14 [00:00<?, ?it/s]"
      ]
     },
     "metadata": {},
     "output_type": "display_data"
    },
    {
     "data": {
      "application/vnd.jupyter.widget-view+json": {
       "model_id": "",
       "version_major": 2,
       "version_minor": 0
      },
      "text/plain": [
       "Single PSFs:   0%|          | 0/14 [00:00<?, ?it/s]"
      ]
     },
     "metadata": {},
     "output_type": "display_data"
    },
    {
     "data": {
      "application/vnd.jupyter.widget-view+json": {
       "model_id": "",
       "version_major": 2,
       "version_minor": 0
      },
      "text/plain": [
       "Single PSFs:   0%|          | 0/14 [00:00<?, ?it/s]"
      ]
     },
     "metadata": {},
     "output_type": "display_data"
    },
    {
     "data": {
      "application/vnd.jupyter.widget-view+json": {
       "model_id": "",
       "version_major": 2,
       "version_minor": 0
      },
      "text/plain": [
       "Single PSFs:   0%|          | 0/14 [00:00<?, ?it/s]"
      ]
     },
     "metadata": {},
     "output_type": "display_data"
    },
    {
     "data": {
      "application/vnd.jupyter.widget-view+json": {
       "model_id": "",
       "version_major": 2,
       "version_minor": 0
      },
      "text/plain": [
       "Single PSFs:   0%|          | 0/14 [00:00<?, ?it/s]"
      ]
     },
     "metadata": {},
     "output_type": "display_data"
    },
    {
     "data": {
      "application/vnd.jupyter.widget-view+json": {
       "model_id": "",
       "version_major": 2,
       "version_minor": 0
      },
      "text/plain": [
       "Single PSFs:   0%|          | 0/14 [00:00<?, ?it/s]"
      ]
     },
     "metadata": {},
     "output_type": "display_data"
    },
    {
     "data": {
      "application/vnd.jupyter.widget-view+json": {
       "model_id": "",
       "version_major": 2,
       "version_minor": 0
      },
      "text/plain": [
       "Single PSFs:   0%|          | 0/14 [00:00<?, ?it/s]"
      ]
     },
     "metadata": {},
     "output_type": "display_data"
    },
    {
     "data": {
      "application/vnd.jupyter.widget-view+json": {
       "model_id": "",
       "version_major": 2,
       "version_minor": 0
      },
      "text/plain": [
       "Single PSFs:   0%|          | 0/14 [00:00<?, ?it/s]"
      ]
     },
     "metadata": {},
     "output_type": "display_data"
    },
    {
     "data": {
      "application/vnd.jupyter.widget-view+json": {
       "model_id": "",
       "version_major": 2,
       "version_minor": 0
      },
      "text/plain": [
       "Single PSFs:   0%|          | 0/14 [00:00<?, ?it/s]"
      ]
     },
     "metadata": {},
     "output_type": "display_data"
    },
    {
     "data": {
      "application/vnd.jupyter.widget-view+json": {
       "model_id": "",
       "version_major": 2,
       "version_minor": 0
      },
      "text/plain": [
       "Single PSFs:   0%|          | 0/14 [00:00<?, ?it/s]"
      ]
     },
     "metadata": {},
     "output_type": "display_data"
    },
    {
     "data": {
      "application/vnd.jupyter.widget-view+json": {
       "model_id": "",
       "version_major": 2,
       "version_minor": 0
      },
      "text/plain": [
       "Single PSFs:   0%|          | 0/14 [00:00<?, ?it/s]"
      ]
     },
     "metadata": {},
     "output_type": "display_data"
    },
    {
     "data": {
      "application/vnd.jupyter.widget-view+json": {
       "model_id": "",
       "version_major": 2,
       "version_minor": 0
      },
      "text/plain": [
       "Single PSFs:   0%|          | 0/14 [00:00<?, ?it/s]"
      ]
     },
     "metadata": {},
     "output_type": "display_data"
    },
    {
     "data": {
      "application/vnd.jupyter.widget-view+json": {
       "model_id": "",
       "version_major": 2,
       "version_minor": 0
      },
      "text/plain": [
       "Single PSFs:   0%|          | 0/14 [00:00<?, ?it/s]"
      ]
     },
     "metadata": {},
     "output_type": "display_data"
    },
    {
     "data": {
      "application/vnd.jupyter.widget-view+json": {
       "model_id": "",
       "version_major": 2,
       "version_minor": 0
      },
      "text/plain": [
       "Single PSFs:   0%|          | 0/14 [00:00<?, ?it/s]"
      ]
     },
     "metadata": {},
     "output_type": "display_data"
    },
    {
     "data": {
      "application/vnd.jupyter.widget-view+json": {
       "model_id": "",
       "version_major": 2,
       "version_minor": 0
      },
      "text/plain": [
       "Single PSFs:   0%|          | 0/14 [00:00<?, ?it/s]"
      ]
     },
     "metadata": {},
     "output_type": "display_data"
    },
    {
     "data": {
      "application/vnd.jupyter.widget-view+json": {
       "model_id": "",
       "version_major": 2,
       "version_minor": 0
      },
      "text/plain": [
       "Single PSFs:   0%|          | 0/14 [00:00<?, ?it/s]"
      ]
     },
     "metadata": {},
     "output_type": "display_data"
    },
    {
     "data": {
      "application/vnd.jupyter.widget-view+json": {
       "model_id": "",
       "version_major": 2,
       "version_minor": 0
      },
      "text/plain": [
       "Single PSFs:   0%|          | 0/14 [00:00<?, ?it/s]"
      ]
     },
     "metadata": {},
     "output_type": "display_data"
    },
    {
     "data": {
      "application/vnd.jupyter.widget-view+json": {
       "model_id": "",
       "version_major": 2,
       "version_minor": 0
      },
      "text/plain": [
       "Single PSFs:   0%|          | 0/14 [00:00<?, ?it/s]"
      ]
     },
     "metadata": {},
     "output_type": "display_data"
    },
    {
     "data": {
      "application/vnd.jupyter.widget-view+json": {
       "model_id": "",
       "version_major": 2,
       "version_minor": 0
      },
      "text/plain": [
       "Single PSFs:   0%|          | 0/14 [00:00<?, ?it/s]"
      ]
     },
     "metadata": {},
     "output_type": "display_data"
    },
    {
     "data": {
      "application/vnd.jupyter.widget-view+json": {
       "model_id": "",
       "version_major": 2,
       "version_minor": 0
      },
      "text/plain": [
       "Single PSFs:   0%|          | 0/14 [00:00<?, ?it/s]"
      ]
     },
     "metadata": {},
     "output_type": "display_data"
    },
    {
     "data": {
      "application/vnd.jupyter.widget-view+json": {
       "model_id": "",
       "version_major": 2,
       "version_minor": 0
      },
      "text/plain": [
       "Single PSFs:   0%|          | 0/14 [00:00<?, ?it/s]"
      ]
     },
     "metadata": {},
     "output_type": "display_data"
    },
    {
     "data": {
      "application/vnd.jupyter.widget-view+json": {
       "model_id": "",
       "version_major": 2,
       "version_minor": 0
      },
      "text/plain": [
       "Single PSFs:   0%|          | 0/14 [00:00<?, ?it/s]"
      ]
     },
     "metadata": {},
     "output_type": "display_data"
    },
    {
     "data": {
      "application/vnd.jupyter.widget-view+json": {
       "model_id": "",
       "version_major": 2,
       "version_minor": 0
      },
      "text/plain": [
       "Single PSFs:   0%|          | 0/14 [00:00<?, ?it/s]"
      ]
     },
     "metadata": {},
     "output_type": "display_data"
    },
    {
     "data": {
      "application/vnd.jupyter.widget-view+json": {
       "model_id": "",
       "version_major": 2,
       "version_minor": 0
      },
      "text/plain": [
       "Single PSFs:   0%|          | 0/14 [00:00<?, ?it/s]"
      ]
     },
     "metadata": {},
     "output_type": "display_data"
    },
    {
     "data": {
      "application/vnd.jupyter.widget-view+json": {
       "model_id": "",
       "version_major": 2,
       "version_minor": 0
      },
      "text/plain": [
       "Single PSFs:   0%|          | 0/14 [00:00<?, ?it/s]"
      ]
     },
     "metadata": {},
     "output_type": "display_data"
    },
    {
     "data": {
      "application/vnd.jupyter.widget-view+json": {
       "model_id": "",
       "version_major": 2,
       "version_minor": 0
      },
      "text/plain": [
       "Single PSFs:   0%|          | 0/14 [00:00<?, ?it/s]"
      ]
     },
     "metadata": {},
     "output_type": "display_data"
    },
    {
     "data": {
      "application/vnd.jupyter.widget-view+json": {
       "model_id": "",
       "version_major": 2,
       "version_minor": 0
      },
      "text/plain": [
       "Single PSFs:   0%|          | 0/14 [00:00<?, ?it/s]"
      ]
     },
     "metadata": {},
     "output_type": "display_data"
    },
    {
     "data": {
      "application/vnd.jupyter.widget-view+json": {
       "model_id": "",
       "version_major": 2,
       "version_minor": 0
      },
      "text/plain": [
       "Single PSFs:   0%|          | 0/14 [00:00<?, ?it/s]"
      ]
     },
     "metadata": {},
     "output_type": "display_data"
    },
    {
     "data": {
      "application/vnd.jupyter.widget-view+json": {
       "model_id": "",
       "version_major": 2,
       "version_minor": 0
      },
      "text/plain": [
       "Single PSFs:   0%|          | 0/14 [00:00<?, ?it/s]"
      ]
     },
     "metadata": {},
     "output_type": "display_data"
    },
    {
     "data": {
      "application/vnd.jupyter.widget-view+json": {
       "model_id": "",
       "version_major": 2,
       "version_minor": 0
      },
      "text/plain": [
       "Single PSFs:   0%|          | 0/14 [00:00<?, ?it/s]"
      ]
     },
     "metadata": {},
     "output_type": "display_data"
    },
    {
     "data": {
      "application/vnd.jupyter.widget-view+json": {
       "model_id": "",
       "version_major": 2,
       "version_minor": 0
      },
      "text/plain": [
       "Single PSFs:   0%|          | 0/14 [00:00<?, ?it/s]"
      ]
     },
     "metadata": {},
     "output_type": "display_data"
    },
    {
     "data": {
      "application/vnd.jupyter.widget-view+json": {
       "model_id": "",
       "version_major": 2,
       "version_minor": 0
      },
      "text/plain": [
       "Single PSFs:   0%|          | 0/14 [00:00<?, ?it/s]"
      ]
     },
     "metadata": {},
     "output_type": "display_data"
    },
    {
     "data": {
      "application/vnd.jupyter.widget-view+json": {
       "model_id": "",
       "version_major": 2,
       "version_minor": 0
      },
      "text/plain": [
       "Single PSFs:   0%|          | 0/14 [00:00<?, ?it/s]"
      ]
     },
     "metadata": {},
     "output_type": "display_data"
    },
    {
     "data": {
      "application/vnd.jupyter.widget-view+json": {
       "model_id": "",
       "version_major": 2,
       "version_minor": 0
      },
      "text/plain": [
       "Single PSFs:   0%|          | 0/14 [00:00<?, ?it/s]"
      ]
     },
     "metadata": {},
     "output_type": "display_data"
    },
    {
     "data": {
      "application/vnd.jupyter.widget-view+json": {
       "model_id": "",
       "version_major": 2,
       "version_minor": 0
      },
      "text/plain": [
       "Single PSFs:   0%|          | 0/14 [00:00<?, ?it/s]"
      ]
     },
     "metadata": {},
     "output_type": "display_data"
    },
    {
     "data": {
      "application/vnd.jupyter.widget-view+json": {
       "model_id": "",
       "version_major": 2,
       "version_minor": 0
      },
      "text/plain": [
       "Single PSFs:   0%|          | 0/14 [00:00<?, ?it/s]"
      ]
     },
     "metadata": {},
     "output_type": "display_data"
    },
    {
     "data": {
      "application/vnd.jupyter.widget-view+json": {
       "model_id": "",
       "version_major": 2,
       "version_minor": 0
      },
      "text/plain": [
       "Single PSFs:   0%|          | 0/14 [00:00<?, ?it/s]"
      ]
     },
     "metadata": {},
     "output_type": "display_data"
    },
    {
     "data": {
      "application/vnd.jupyter.widget-view+json": {
       "model_id": "",
       "version_major": 2,
       "version_minor": 0
      },
      "text/plain": [
       "Single PSFs:   0%|          | 0/14 [00:00<?, ?it/s]"
      ]
     },
     "metadata": {},
     "output_type": "display_data"
    },
    {
     "data": {
      "application/vnd.jupyter.widget-view+json": {
       "model_id": "",
       "version_major": 2,
       "version_minor": 0
      },
      "text/plain": [
       "Single PSFs:   0%|          | 0/14 [00:00<?, ?it/s]"
      ]
     },
     "metadata": {},
     "output_type": "display_data"
    },
    {
     "data": {
      "application/vnd.jupyter.widget-view+json": {
       "model_id": "",
       "version_major": 2,
       "version_minor": 0
      },
      "text/plain": [
       "Single PSFs:   0%|          | 0/14 [00:00<?, ?it/s]"
      ]
     },
     "metadata": {},
     "output_type": "display_data"
    },
    {
     "data": {
      "application/vnd.jupyter.widget-view+json": {
       "model_id": "",
       "version_major": 2,
       "version_minor": 0
      },
      "text/plain": [
       "Single PSFs:   0%|          | 0/14 [00:00<?, ?it/s]"
      ]
     },
     "metadata": {},
     "output_type": "display_data"
    },
    {
     "data": {
      "application/vnd.jupyter.widget-view+json": {
       "model_id": "",
       "version_major": 2,
       "version_minor": 0
      },
      "text/plain": [
       "Single PSFs:   0%|          | 0/14 [00:00<?, ?it/s]"
      ]
     },
     "metadata": {},
     "output_type": "display_data"
    },
    {
     "data": {
      "application/vnd.jupyter.widget-view+json": {
       "model_id": "",
       "version_major": 2,
       "version_minor": 0
      },
      "text/plain": [
       "Single PSFs:   0%|          | 0/14 [00:00<?, ?it/s]"
      ]
     },
     "metadata": {},
     "output_type": "display_data"
    },
    {
     "data": {
      "application/vnd.jupyter.widget-view+json": {
       "model_id": "",
       "version_major": 2,
       "version_minor": 0
      },
      "text/plain": [
       "Single PSFs:   0%|          | 0/14 [00:00<?, ?it/s]"
      ]
     },
     "metadata": {},
     "output_type": "display_data"
    },
    {
     "data": {
      "application/vnd.jupyter.widget-view+json": {
       "model_id": "",
       "version_major": 2,
       "version_minor": 0
      },
      "text/plain": [
       "Single PSFs:   0%|          | 0/14 [00:00<?, ?it/s]"
      ]
     },
     "metadata": {},
     "output_type": "display_data"
    },
    {
     "data": {
      "application/vnd.jupyter.widget-view+json": {
       "model_id": "",
       "version_major": 2,
       "version_minor": 0
      },
      "text/plain": [
       "Single PSFs:   0%|          | 0/14 [00:00<?, ?it/s]"
      ]
     },
     "metadata": {},
     "output_type": "display_data"
    },
    {
     "data": {
      "application/vnd.jupyter.widget-view+json": {
       "model_id": "",
       "version_major": 2,
       "version_minor": 0
      },
      "text/plain": [
       "Single PSFs:   0%|          | 0/14 [00:00<?, ?it/s]"
      ]
     },
     "metadata": {},
     "output_type": "display_data"
    },
    {
     "data": {
      "application/vnd.jupyter.widget-view+json": {
       "model_id": "",
       "version_major": 2,
       "version_minor": 0
      },
      "text/plain": [
       "Single PSFs:   0%|          | 0/14 [00:00<?, ?it/s]"
      ]
     },
     "metadata": {},
     "output_type": "display_data"
    },
    {
     "data": {
      "application/vnd.jupyter.widget-view+json": {
       "model_id": "",
       "version_major": 2,
       "version_minor": 0
      },
      "text/plain": [
       "Single PSFs:   0%|          | 0/14 [00:00<?, ?it/s]"
      ]
     },
     "metadata": {},
     "output_type": "display_data"
    },
    {
     "data": {
      "application/vnd.jupyter.widget-view+json": {
       "model_id": "",
       "version_major": 2,
       "version_minor": 0
      },
      "text/plain": [
       "Single PSFs:   0%|          | 0/14 [00:00<?, ?it/s]"
      ]
     },
     "metadata": {},
     "output_type": "display_data"
    },
    {
     "data": {
      "application/vnd.jupyter.widget-view+json": {
       "model_id": "",
       "version_major": 2,
       "version_minor": 0
      },
      "text/plain": [
       "Single PSFs:   0%|          | 0/14 [00:00<?, ?it/s]"
      ]
     },
     "metadata": {},
     "output_type": "display_data"
    },
    {
     "data": {
      "application/vnd.jupyter.widget-view+json": {
       "model_id": "",
       "version_major": 2,
       "version_minor": 0
      },
      "text/plain": [
       "Single PSFs:   0%|          | 0/14 [00:00<?, ?it/s]"
      ]
     },
     "metadata": {},
     "output_type": "display_data"
    },
    {
     "data": {
      "application/vnd.jupyter.widget-view+json": {
       "model_id": "",
       "version_major": 2,
       "version_minor": 0
      },
      "text/plain": [
       "Single PSFs:   0%|          | 0/14 [00:00<?, ?it/s]"
      ]
     },
     "metadata": {},
     "output_type": "display_data"
    },
    {
     "data": {
      "application/vnd.jupyter.widget-view+json": {
       "model_id": "",
       "version_major": 2,
       "version_minor": 0
      },
      "text/plain": [
       "Single PSFs:   0%|          | 0/14 [00:00<?, ?it/s]"
      ]
     },
     "metadata": {},
     "output_type": "display_data"
    },
    {
     "data": {
      "application/vnd.jupyter.widget-view+json": {
       "model_id": "",
       "version_major": 2,
       "version_minor": 0
      },
      "text/plain": [
       "Single PSFs:   0%|          | 0/14 [00:00<?, ?it/s]"
      ]
     },
     "metadata": {},
     "output_type": "display_data"
    },
    {
     "data": {
      "application/vnd.jupyter.widget-view+json": {
       "model_id": "",
       "version_major": 2,
       "version_minor": 0
      },
      "text/plain": [
       "Single PSFs:   0%|          | 0/14 [00:00<?, ?it/s]"
      ]
     },
     "metadata": {},
     "output_type": "display_data"
    },
    {
     "data": {
      "application/vnd.jupyter.widget-view+json": {
       "model_id": "",
       "version_major": 2,
       "version_minor": 0
      },
      "text/plain": [
       "Single PSFs:   0%|          | 0/14 [00:00<?, ?it/s]"
      ]
     },
     "metadata": {},
     "output_type": "display_data"
    },
    {
     "data": {
      "application/vnd.jupyter.widget-view+json": {
       "model_id": "",
       "version_major": 2,
       "version_minor": 0
      },
      "text/plain": [
       "Single PSFs:   0%|          | 0/14 [00:00<?, ?it/s]"
      ]
     },
     "metadata": {},
     "output_type": "display_data"
    },
    {
     "data": {
      "application/vnd.jupyter.widget-view+json": {
       "model_id": "",
       "version_major": 2,
       "version_minor": 0
      },
      "text/plain": [
       "Single PSFs:   0%|          | 0/14 [00:00<?, ?it/s]"
      ]
     },
     "metadata": {},
     "output_type": "display_data"
    },
    {
     "data": {
      "application/vnd.jupyter.widget-view+json": {
       "model_id": "",
       "version_major": 2,
       "version_minor": 0
      },
      "text/plain": [
       "Single PSFs:   0%|          | 0/14 [00:00<?, ?it/s]"
      ]
     },
     "metadata": {},
     "output_type": "display_data"
    },
    {
     "data": {
      "application/vnd.jupyter.widget-view+json": {
       "model_id": "",
       "version_major": 2,
       "version_minor": 0
      },
      "text/plain": [
       "Single PSFs:   0%|          | 0/14 [00:00<?, ?it/s]"
      ]
     },
     "metadata": {},
     "output_type": "display_data"
    },
    {
     "data": {
      "application/vnd.jupyter.widget-view+json": {
       "model_id": "",
       "version_major": 2,
       "version_minor": 0
      },
      "text/plain": [
       "Single PSFs:   0%|          | 0/14 [00:00<?, ?it/s]"
      ]
     },
     "metadata": {},
     "output_type": "display_data"
    },
    {
     "data": {
      "application/vnd.jupyter.widget-view+json": {
       "model_id": "",
       "version_major": 2,
       "version_minor": 0
      },
      "text/plain": [
       "Single PSFs:   0%|          | 0/14 [00:00<?, ?it/s]"
      ]
     },
     "metadata": {},
     "output_type": "display_data"
    },
    {
     "data": {
      "application/vnd.jupyter.widget-view+json": {
       "model_id": "",
       "version_major": 2,
       "version_minor": 0
      },
      "text/plain": [
       "Single PSFs:   0%|          | 0/14 [00:00<?, ?it/s]"
      ]
     },
     "metadata": {},
     "output_type": "display_data"
    },
    {
     "data": {
      "application/vnd.jupyter.widget-view+json": {
       "model_id": "",
       "version_major": 2,
       "version_minor": 0
      },
      "text/plain": [
       "Single PSFs:   0%|          | 0/14 [00:00<?, ?it/s]"
      ]
     },
     "metadata": {},
     "output_type": "display_data"
    },
    {
     "data": {
      "application/vnd.jupyter.widget-view+json": {
       "model_id": "",
       "version_major": 2,
       "version_minor": 0
      },
      "text/plain": [
       "Single PSFs:   0%|          | 0/14 [00:00<?, ?it/s]"
      ]
     },
     "metadata": {},
     "output_type": "display_data"
    },
    {
     "data": {
      "application/vnd.jupyter.widget-view+json": {
       "model_id": "",
       "version_major": 2,
       "version_minor": 0
      },
      "text/plain": [
       "Single PSFs:   0%|          | 0/14 [00:00<?, ?it/s]"
      ]
     },
     "metadata": {},
     "output_type": "display_data"
    },
    {
     "data": {
      "application/vnd.jupyter.widget-view+json": {
       "model_id": "",
       "version_major": 2,
       "version_minor": 0
      },
      "text/plain": [
       "Single PSFs:   0%|          | 0/14 [00:00<?, ?it/s]"
      ]
     },
     "metadata": {},
     "output_type": "display_data"
    },
    {
     "data": {
      "application/vnd.jupyter.widget-view+json": {
       "model_id": "",
       "version_major": 2,
       "version_minor": 0
      },
      "text/plain": [
       "Single PSFs:   0%|          | 0/14 [00:00<?, ?it/s]"
      ]
     },
     "metadata": {},
     "output_type": "display_data"
    },
    {
     "data": {
      "application/vnd.jupyter.widget-view+json": {
       "model_id": "",
       "version_major": 2,
       "version_minor": 0
      },
      "text/plain": [
       "Single PSFs:   0%|          | 0/14 [00:00<?, ?it/s]"
      ]
     },
     "metadata": {},
     "output_type": "display_data"
    },
    {
     "data": {
      "application/vnd.jupyter.widget-view+json": {
       "model_id": "",
       "version_major": 2,
       "version_minor": 0
      },
      "text/plain": [
       "Single PSFs:   0%|          | 0/14 [00:00<?, ?it/s]"
      ]
     },
     "metadata": {},
     "output_type": "display_data"
    },
    {
     "data": {
      "application/vnd.jupyter.widget-view+json": {
       "model_id": "",
       "version_major": 2,
       "version_minor": 0
      },
      "text/plain": [
       "Single PSFs:   0%|          | 0/14 [00:00<?, ?it/s]"
      ]
     },
     "metadata": {},
     "output_type": "display_data"
    },
    {
     "data": {
      "application/vnd.jupyter.widget-view+json": {
       "model_id": "",
       "version_major": 2,
       "version_minor": 0
      },
      "text/plain": [
       "Single PSFs:   0%|          | 0/14 [00:00<?, ?it/s]"
      ]
     },
     "metadata": {},
     "output_type": "display_data"
    },
    {
     "data": {
      "application/vnd.jupyter.widget-view+json": {
       "model_id": "",
       "version_major": 2,
       "version_minor": 0
      },
      "text/plain": [
       "Single PSFs:   0%|          | 0/14 [00:00<?, ?it/s]"
      ]
     },
     "metadata": {},
     "output_type": "display_data"
    },
    {
     "data": {
      "application/vnd.jupyter.widget-view+json": {
       "model_id": "",
       "version_major": 2,
       "version_minor": 0
      },
      "text/plain": [
       "Single PSFs:   0%|          | 0/14 [00:00<?, ?it/s]"
      ]
     },
     "metadata": {},
     "output_type": "display_data"
    },
    {
     "data": {
      "application/vnd.jupyter.widget-view+json": {
       "model_id": "",
       "version_major": 2,
       "version_minor": 0
      },
      "text/plain": [
       "Single PSFs:   0%|          | 0/14 [00:00<?, ?it/s]"
      ]
     },
     "metadata": {},
     "output_type": "display_data"
    },
    {
     "data": {
      "application/vnd.jupyter.widget-view+json": {
       "model_id": "",
       "version_major": 2,
       "version_minor": 0
      },
      "text/plain": [
       "Single PSFs:   0%|          | 0/14 [00:00<?, ?it/s]"
      ]
     },
     "metadata": {},
     "output_type": "display_data"
    },
    {
     "data": {
      "application/vnd.jupyter.widget-view+json": {
       "model_id": "",
       "version_major": 2,
       "version_minor": 0
      },
      "text/plain": [
       "Single PSFs:   0%|          | 0/14 [00:00<?, ?it/s]"
      ]
     },
     "metadata": {},
     "output_type": "display_data"
    },
    {
     "data": {
      "application/vnd.jupyter.widget-view+json": {
       "model_id": "",
       "version_major": 2,
       "version_minor": 0
      },
      "text/plain": [
       "Single PSFs:   0%|          | 0/14 [00:00<?, ?it/s]"
      ]
     },
     "metadata": {},
     "output_type": "display_data"
    },
    {
     "data": {
      "application/vnd.jupyter.widget-view+json": {
       "model_id": "",
       "version_major": 2,
       "version_minor": 0
      },
      "text/plain": [
       "Single PSFs:   0%|          | 0/14 [00:00<?, ?it/s]"
      ]
     },
     "metadata": {},
     "output_type": "display_data"
    },
    {
     "data": {
      "application/vnd.jupyter.widget-view+json": {
       "model_id": "",
       "version_major": 2,
       "version_minor": 0
      },
      "text/plain": [
       "Single PSFs:   0%|          | 0/14 [00:00<?, ?it/s]"
      ]
     },
     "metadata": {},
     "output_type": "display_data"
    },
    {
     "data": {
      "application/vnd.jupyter.widget-view+json": {
       "model_id": "d09d5b09df044d46ba92265e8559523f",
       "version_major": 2,
       "version_minor": 0
      },
      "text/plain": [
       "SGD:   0%|          | 0/24 [00:00<?, ?it/s]"
      ]
     },
     "metadata": {},
     "output_type": "display_data"
    },
    {
     "data": {
      "application/vnd.jupyter.widget-view+json": {
       "model_id": "",
       "version_major": 2,
       "version_minor": 0
      },
      "text/plain": [
       "Single PSFs:   0%|          | 0/14 [00:00<?, ?it/s]"
      ]
     },
     "metadata": {},
     "output_type": "display_data"
    },
    {
     "data": {
      "application/vnd.jupyter.widget-view+json": {
       "model_id": "",
       "version_major": 2,
       "version_minor": 0
      },
      "text/plain": [
       "Single PSFs:   0%|          | 0/14 [00:00<?, ?it/s]"
      ]
     },
     "metadata": {},
     "output_type": "display_data"
    },
    {
     "data": {
      "application/vnd.jupyter.widget-view+json": {
       "model_id": "",
       "version_major": 2,
       "version_minor": 0
      },
      "text/plain": [
       "Single PSFs:   0%|          | 0/14 [00:00<?, ?it/s]"
      ]
     },
     "metadata": {},
     "output_type": "display_data"
    },
    {
     "data": {
      "application/vnd.jupyter.widget-view+json": {
       "model_id": "",
       "version_major": 2,
       "version_minor": 0
      },
      "text/plain": [
       "Single PSFs:   0%|          | 0/14 [00:00<?, ?it/s]"
      ]
     },
     "metadata": {},
     "output_type": "display_data"
    },
    {
     "data": {
      "application/vnd.jupyter.widget-view+json": {
       "model_id": "",
       "version_major": 2,
       "version_minor": 0
      },
      "text/plain": [
       "Single PSFs:   0%|          | 0/14 [00:00<?, ?it/s]"
      ]
     },
     "metadata": {},
     "output_type": "display_data"
    },
    {
     "data": {
      "application/vnd.jupyter.widget-view+json": {
       "model_id": "",
       "version_major": 2,
       "version_minor": 0
      },
      "text/plain": [
       "Single PSFs:   0%|          | 0/14 [00:00<?, ?it/s]"
      ]
     },
     "metadata": {},
     "output_type": "display_data"
    },
    {
     "data": {
      "application/vnd.jupyter.widget-view+json": {
       "model_id": "",
       "version_major": 2,
       "version_minor": 0
      },
      "text/plain": [
       "Single PSFs:   0%|          | 0/14 [00:00<?, ?it/s]"
      ]
     },
     "metadata": {},
     "output_type": "display_data"
    },
    {
     "data": {
      "application/vnd.jupyter.widget-view+json": {
       "model_id": "",
       "version_major": 2,
       "version_minor": 0
      },
      "text/plain": [
       "Single PSFs:   0%|          | 0/14 [00:00<?, ?it/s]"
      ]
     },
     "metadata": {},
     "output_type": "display_data"
    },
    {
     "data": {
      "application/vnd.jupyter.widget-view+json": {
       "model_id": "",
       "version_major": 2,
       "version_minor": 0
      },
      "text/plain": [
       "Single PSFs:   0%|          | 0/14 [00:00<?, ?it/s]"
      ]
     },
     "metadata": {},
     "output_type": "display_data"
    },
    {
     "data": {
      "application/vnd.jupyter.widget-view+json": {
       "model_id": "",
       "version_major": 2,
       "version_minor": 0
      },
      "text/plain": [
       "Single PSFs:   0%|          | 0/14 [00:00<?, ?it/s]"
      ]
     },
     "metadata": {},
     "output_type": "display_data"
    },
    {
     "data": {
      "application/vnd.jupyter.widget-view+json": {
       "model_id": "",
       "version_major": 2,
       "version_minor": 0
      },
      "text/plain": [
       "Single PSFs:   0%|          | 0/14 [00:00<?, ?it/s]"
      ]
     },
     "metadata": {},
     "output_type": "display_data"
    },
    {
     "data": {
      "application/vnd.jupyter.widget-view+json": {
       "model_id": "",
       "version_major": 2,
       "version_minor": 0
      },
      "text/plain": [
       "Single PSFs:   0%|          | 0/14 [00:00<?, ?it/s]"
      ]
     },
     "metadata": {},
     "output_type": "display_data"
    },
    {
     "data": {
      "application/vnd.jupyter.widget-view+json": {
       "model_id": "",
       "version_major": 2,
       "version_minor": 0
      },
      "text/plain": [
       "Single PSFs:   0%|          | 0/14 [00:00<?, ?it/s]"
      ]
     },
     "metadata": {},
     "output_type": "display_data"
    },
    {
     "data": {
      "application/vnd.jupyter.widget-view+json": {
       "model_id": "",
       "version_major": 2,
       "version_minor": 0
      },
      "text/plain": [
       "Single PSFs:   0%|          | 0/14 [00:00<?, ?it/s]"
      ]
     },
     "metadata": {},
     "output_type": "display_data"
    },
    {
     "data": {
      "application/vnd.jupyter.widget-view+json": {
       "model_id": "",
       "version_major": 2,
       "version_minor": 0
      },
      "text/plain": [
       "Single PSFs:   0%|          | 0/14 [00:00<?, ?it/s]"
      ]
     },
     "metadata": {},
     "output_type": "display_data"
    },
    {
     "data": {
      "application/vnd.jupyter.widget-view+json": {
       "model_id": "",
       "version_major": 2,
       "version_minor": 0
      },
      "text/plain": [
       "Single PSFs:   0%|          | 0/14 [00:00<?, ?it/s]"
      ]
     },
     "metadata": {},
     "output_type": "display_data"
    },
    {
     "data": {
      "application/vnd.jupyter.widget-view+json": {
       "model_id": "",
       "version_major": 2,
       "version_minor": 0
      },
      "text/plain": [
       "Single PSFs:   0%|          | 0/14 [00:00<?, ?it/s]"
      ]
     },
     "metadata": {},
     "output_type": "display_data"
    },
    {
     "data": {
      "application/vnd.jupyter.widget-view+json": {
       "model_id": "",
       "version_major": 2,
       "version_minor": 0
      },
      "text/plain": [
       "Single PSFs:   0%|          | 0/14 [00:00<?, ?it/s]"
      ]
     },
     "metadata": {},
     "output_type": "display_data"
    },
    {
     "data": {
      "application/vnd.jupyter.widget-view+json": {
       "model_id": "",
       "version_major": 2,
       "version_minor": 0
      },
      "text/plain": [
       "Single PSFs:   0%|          | 0/14 [00:00<?, ?it/s]"
      ]
     },
     "metadata": {},
     "output_type": "display_data"
    },
    {
     "data": {
      "application/vnd.jupyter.widget-view+json": {
       "model_id": "",
       "version_major": 2,
       "version_minor": 0
      },
      "text/plain": [
       "Single PSFs:   0%|          | 0/14 [00:00<?, ?it/s]"
      ]
     },
     "metadata": {},
     "output_type": "display_data"
    },
    {
     "data": {
      "application/vnd.jupyter.widget-view+json": {
       "model_id": "",
       "version_major": 2,
       "version_minor": 0
      },
      "text/plain": [
       "Single PSFs:   0%|          | 0/14 [00:00<?, ?it/s]"
      ]
     },
     "metadata": {},
     "output_type": "display_data"
    },
    {
     "data": {
      "application/vnd.jupyter.widget-view+json": {
       "model_id": "",
       "version_major": 2,
       "version_minor": 0
      },
      "text/plain": [
       "Single PSFs:   0%|          | 0/14 [00:00<?, ?it/s]"
      ]
     },
     "metadata": {},
     "output_type": "display_data"
    },
    {
     "data": {
      "application/vnd.jupyter.widget-view+json": {
       "model_id": "",
       "version_major": 2,
       "version_minor": 0
      },
      "text/plain": [
       "Single PSFs:   0%|          | 0/14 [00:00<?, ?it/s]"
      ]
     },
     "metadata": {},
     "output_type": "display_data"
    },
    {
     "data": {
      "application/vnd.jupyter.widget-view+json": {
       "model_id": "",
       "version_major": 2,
       "version_minor": 0
      },
      "text/plain": [
       "Single PSFs:   0%|          | 0/14 [00:00<?, ?it/s]"
      ]
     },
     "metadata": {},
     "output_type": "display_data"
    },
    {
     "name": "stdout",
     "output_type": "stream",
     "text": [
      "[webbpsf_ext:INFO] Saving to /Users/Jarron/NIRCam/webbpsf_ext_data/psf_coeffs/MIRI/F1550C_MASKFQPM_FQPM1550_pix256_os2_jsig0_r0.00_th+0.0_RevWslice0_legendre_wfemask.npz\n"
     ]
    }
   ],
   "source": [
    "# Calculate position-dependent PSFs due to FQPM\n",
    "# Equivalent to generating a giant library to interpolate over\n",
    "inst.gen_wfemask_coeff()"
   ]
  },
  {
   "cell_type": "markdown",
   "id": "prepared-bubble",
   "metadata": {},
   "source": [
    "## Observation setup\n",
    "\n",
    "__Configuring observation settings__\n",
    "\n",
    "Observations consist of nested visit, mosaic tiles, exposures, and dithers. In this section, we configure a pointing class that houses information for a single observation defined in the APT .pointing file. The primary information includes a pointing reference SIAF aperturne name, RA and Dec of the ref aperture, Base X/Y offset relative to the ref aperture position, and Dith X/Y offsets. From this information, along with the V2/V3 position angle, we can determine the orientation and location of objects on the detector focal plane.\n",
    "\n",
    "**Note**: The reference aperture is not necessarily the same as the observed aperture. For instance, you may observe simultaneously with four of NIRCam's SWA detectors, so the reference aperture would be the entire SWA channel, while the observed apertures are A1, A2, A3, and A4."
   ]
  },
  {
   "cell_type": "code",
   "execution_count": 10,
   "id": "sporting-spectrum",
   "metadata": {},
   "outputs": [],
   "source": [
    "# Import class to setup pointing info\n",
    "from webbpsf_ext.coords import jwst_point"
   ]
  },
  {
   "cell_type": "code",
   "execution_count": 11,
   "id": "healthy-pickup",
   "metadata": {},
   "outputs": [
    {
     "name": "stdout",
     "output_type": "stream",
     "text": [
      "[webbpsf_ext:INFO] Generating random pointing offsets...\n",
      "[webbpsf_ext:INFO] Pointing uncertainty: 5.0 mas\n",
      "[webbpsf_ext:INFO]   Pos 0 dither uncertainty: 0.0 mas\n"
     ]
    }
   ],
   "source": [
    "# Observed and reference apertures\n",
    "ap_obs = inst.aperturename\n",
    "ap_ref = 'MIRIM_MASK1550'\n",
    "    \n",
    "# Define the RA/Dec of reference aperture and telescope position angle\n",
    "# Position angle is angle of V3 axis rotated towards East\n",
    "ra_ref, dec_ref = (+344.41269, -29.62224)\n",
    "pos_ang = 30\n",
    "\n",
    "# Set any baseline pointing offsets (e.g., specified in APT's Special Requirements)\n",
    "base_offset=(0,0)\n",
    "# Define a list of nominal dither offsets\n",
    "dith_offsets = [(0,0)]\n",
    "\n",
    "# Telescope pointing information\n",
    "tel_point = jwst_point(ap_obs, ap_ref, ra_ref, dec_ref, pos_ang=pos_ang,\n",
    "                       base_offset=base_offset, dith_offsets=dith_offsets)"
   ]
  },
  {
   "cell_type": "code",
   "execution_count": 12,
   "id": "athletic-childhood",
   "metadata": {},
   "outputs": [
    {
     "name": "stdout",
     "output_type": "stream",
     "text": [
      "Reference aperture: MIRIM_MASK1550\n",
      "  Nominal RA, Dec = (344.412690, -29.622240)\n",
      "Observed aperture: MIRIM_CORON1550\n",
      "  Nominal RA, Dec = (344.412690, -29.622240)\n",
      "Relative offsets in 'idl' for each dither position (incl. pointing errors)\n",
      "  Position 0: (0.0076, -0.0011) arcsec\n"
     ]
    }
   ],
   "source": [
    "print(f\"Reference aperture: {tel_point.siaf_ap_ref.AperName}\")\n",
    "print(f\"  Nominal RA, Dec = ({tel_point.ra_ref:.6f}, {tel_point.dec_ref:.6f})\")\n",
    "print(f\"Observed aperture: {tel_point.siaf_ap_obs.AperName}\")\n",
    "print(f\"  Nominal RA, Dec = ({tel_point.ra_obs:.6f}, {tel_point.dec_obs:.6f})\")\n",
    "\n",
    "print(f\"Relative offsets in 'idl' for each dither position (incl. pointing errors)\")\n",
    "for i, offset in enumerate(tel_point.position_offsets_act):\n",
    "    print(f\"  Position {i}: ({offset[0]:.4f}, {offset[1]:.4f}) arcsec\")"
   ]
  },
  {
   "cell_type": "markdown",
   "id": "homeless-particular",
   "metadata": {},
   "source": [
    "## Add central source\n",
    "\n",
    "Here we define the stellar atmosphere parameters for Fomalhaut, including spectral type, optional values for (Teff, log_g, metallicity), normalization flux and bandpass, as well as RA and Dec."
   ]
  },
  {
   "cell_type": "code",
   "execution_count": 13,
   "id": "defensive-truck",
   "metadata": {},
   "outputs": [],
   "source": [
    "from webbpsf_ext import miri_filter, nircam_filter, bp_2mass\n",
    "from webbpsf_ext.image_manip import pad_or_cut_to_size\n",
    "\n",
    "def make_spec(name=None, sptype=None, flux=None, flux_units=None, bp_ref=None, **kwargs):\n",
    "    \"\"\"\n",
    "    Create pysynphot stellar spectrum from input dictionary properties.\n",
    "    \"\"\"\n",
    "\n",
    "    from webbpsf_ext import stellar_spectrum\n",
    "    \n",
    "    # Renormalization arguments\n",
    "    renorm_args = (flux, flux_units, bp_ref)\n",
    "    \n",
    "    # Create spectrum\n",
    "    sp = stellar_spectrum(sptype, *renorm_args, **kwargs)\n",
    "    if name is not None:\n",
    "        sp.name = name\n",
    "    \n",
    "    return sp"
   ]
  },
  {
   "cell_type": "code",
   "execution_count": 14,
   "id": "congressional-anatomy",
   "metadata": {},
   "outputs": [],
   "source": [
    "# Information necessary to create pysynphot spectrum of star\n",
    "obj_params = {\n",
    "    'name': 'Fomalhaut', \n",
    "    'sptype': 'A4V', \n",
    "    'Teff': 8760, 'log_g': 4.2, 'metallicity': 0, # Di Folco, et al. (2004)\n",
    "    'dist': 7.7,\n",
    "    # 'flux': 1.05, 'flux_units': 'vegamag', 'bp_ref': bp_2mass('k'),\n",
    "    'flux': 6.79, 'flux_units': 'Jy', 'bp_ref': miri_filter('F1550C'),\n",
    "    'RA_obj'  : +344.41269,  # RA (decimal deg) of source\n",
    "    'Dec_obj' :  -29.62224,  # Dec (decimal deg) of source\n",
    "}"
   ]
  },
  {
   "cell_type": "code",
   "execution_count": 15,
   "id": "prescribed-medium",
   "metadata": {},
   "outputs": [],
   "source": [
    "# Create stellar spectrum and add to dictionary\n",
    "sp_star = make_spec(**obj_params)\n",
    "obj_params['sp'] = sp_star"
   ]
  },
  {
   "cell_type": "code",
   "execution_count": 16,
   "id": "speaking-capital",
   "metadata": {},
   "outputs": [
    {
     "name": "stdout",
     "output_type": "stream",
     "text": [
      "Image shifts (oversampled pixels): 0.13859769823363877 -0.019680178531473302\n"
     ]
    }
   ],
   "source": [
    "# Get `sci` coord positions\n",
    "coord_obj = (obj_params['RA_obj'], obj_params['Dec_obj'])\n",
    "xsci, ysci = tel_point.radec_to_frame(coord_obj, frame_out='sci')\n",
    "\n",
    "# Get sci position shifts from center in units of detector pixels\n",
    "siaf_ap = tel_point.siaf_ap_obs\n",
    "xsci_cen, ysci_cen = siaf_ap.reference_point('sci')\n",
    "xsci_off, ysci_off = (xsci-xsci_cen, ysci-ysci_cen)\n",
    "\n",
    "# and now oversampled pixel shifts\n",
    "osamp = inst.oversample\n",
    "xsci_off_over = xsci_off * osamp\n",
    "ysci_off_over = ysci_off * osamp\n",
    "\n",
    "print(\"Image shifts (oversampled pixels):\", xsci_off_over, ysci_off_over)"
   ]
  },
  {
   "cell_type": "code",
   "execution_count": 17,
   "id": "natural-graphics",
   "metadata": {},
   "outputs": [
    {
     "name": "stdout",
     "output_type": "stream",
     "text": [
      "[webbpsf_ext:INFO] Generating mask-dependent modifications...\n"
     ]
    }
   ],
   "source": [
    "# Create PSF\n",
    "# PSFs already includes geometric distortions based on SIAF info\n",
    "sp = obj_params['sp']\n",
    "hdul = inst.calc_psf_from_coeff(sp=sp, coord_vals=(xsci,ysci), coord_frame='sci')\n",
    "\n",
    "# Expand PSF to full frame and offset to proper position\n",
    "ny_pix, nx_pix = (siaf_ap.YSciSize, siaf_ap.XSciSize)\n",
    "ny_pix_over, nx_pix_over = np.array([ny_pix, nx_pix]) * osamp\n",
    "shape_new = (ny_pix*osamp, nx_pix*osamp)\n",
    "delyx = (ysci_off_over, xsci_off_over)\n",
    "image_full = pad_or_cut_to_size(hdul[0].data, shape_new, offset_vals=delyx)\n",
    "\n",
    "# Make new HDUList of target (just central source so far)\n",
    "hdul_full = fits.HDUList(fits.PrimaryHDU(data=image_full, header=hdul[0].header))"
   ]
  },
  {
   "cell_type": "code",
   "execution_count": 18,
   "id": "operational-smooth",
   "metadata": {},
   "outputs": [
    {
     "data": {
      "text/plain": [
       "<matplotlib.image.AxesImage at 0x7f95804b2f50>"
      ]
     },
     "execution_count": 18,
     "metadata": {},
     "output_type": "execute_result"
    },
    {
     "data": {
      "image/png": "[encoded data removed]",
      "text/plain": [
       "<Figure size 576x432 with 1 Axes>"
      ]
     },
     "metadata": {
      "needs_background": "light"
     },
     "output_type": "display_data"
    }
   ],
   "source": [
    "plt.imshow(hdul_full[0].data, cmap='magma')"
   ]
  },
  {
   "cell_type": "markdown",
   "id": "finnish-villa",
   "metadata": {},
   "source": [
    "## Add companions\n",
    "\n",
    "This section demonstrates four difference ways to specify atmospheric parameters for generating companion spectrum:\n",
    " 1. Using Spiegel & Burrows (2012) exoplanet atmsophere models\n",
    " 2. BEX models from Linder et al. (2019)\n",
    " 3. AMES-Cond models (Allard et al. 2001, Baraffe et al. 2003)\n",
    " 4. BOSZ stellar spectrum (Bohlin et al. 2017)\n",
    " \n",
    "Since the BEX and COND model grids only supply observed magnitudes within particular JWST instrument bands, an SED is supplied from SB12 (of similar mass) in order to produce a reasonable spectral shape. Otherwise, a flat spectrum would be used during the PSF generation, which may not be a fair representation of the flux weighting across a given bandpass.\n",
    "\n",
    "For locations, we also supply position offsets to the primary component, rather than requesting the absolute RA/Dec. "
   ]
  },
  {
   "cell_type": "code",
   "execution_count": 19,
   "id": "centered-clinton",
   "metadata": {},
   "outputs": [],
   "source": [
    "from webbpsf_ext import spectra, coords\n",
    "from webbpsf_ext.utils import S"
   ]
  },
  {
   "cell_type": "code",
   "execution_count": 20,
   "id": "prostate-envelope",
   "metadata": {},
   "outputs": [],
   "source": [
    "# Information for hypothetical companions surrounding Fomalhaut\n",
    "\n",
    "\n",
    "# Example using Spiegel & Burrows (2012) exoplanet atmsophere models\n",
    "comp_SB12_params = {\n",
    "    'name': 'Fom_b',\n",
    "    'xy_off': None, 'rth_off': (50, -45), 'runits': 'AU', # 'AU' or 'asec'\n",
    "    'model': 'SB12', # 'SB12', 'BEX', 'cond', or stellar ('bosz', 'ck04models', 'phoenix')\n",
    "    'mass': 10, 'age': 440, 'dist': 7.7,  # MJup, Myr, pc\n",
    "    'atmo': 'hy3s', 'entropy': 10,       # SB12-specific atmosphere model\n",
    "    'accr': False, 'mmdot': None, 'mdot': None, 'accr_rin': 2, 'truncated':False,\n",
    "    'sptype': None, 'Av':0, 'renorm_args': None, \n",
    "}\n",
    "\n",
    "# Example using BEX models (Linder et al. 2019)\n",
    "comp_BEX_params = {\n",
    "    'name': 'Fom_c',\n",
    "    'xy_off': None, 'rth_off': (50,+45), 'runits': 'AU', # 'AU' or 'asec'\n",
    "    'model': 'BEX', # 'SB12', 'BEX', 'cond', or stellar ('bosz', 'ck04models', 'phoenix')\n",
    "    'mass': 10, 'age': 440, 'dist': 7.7,\n",
    "    'accr': False, 'mmdot': None, 'mdot': None, 'accr_rin': 2, 'truncated':False,\n",
    "    'sptype': None, 'Av':0, 'renorm_args': None, \n",
    "}\n",
    "\n",
    "# Example using AMES-Cond models (Allard et al. 2001, Baraffe et al. 2003)\n",
    "comp_cond_params = {\n",
    "    'name': 'Fom_d',\n",
    "    'xy_off': None, 'rth_off': (50,+135), 'runits': 'AU', # 'AU' or 'asec'\n",
    "    'model': 'cond', # 'SB12', 'BEX', 'cond', or stellar ('bosz', 'ck04models', 'phoenix')\n",
    "    'mass': 10, 'age': 440, 'dist': 7.7,\n",
    "    'accr': False, 'mmdot': None, 'mdot': None, 'accr_rin': 2, 'truncated':False,\n",
    "    'sptype': None, 'Av':0, 'renorm_args': None, \n",
    "}\n",
    "\n",
    "# Example using BOSZ stellar spectrum (Bohlin et al. 2017)\n",
    "comp_star_params = {\n",
    "    'name': 'Fom_e',\n",
    "    'xy_off': None, 'rth_off': (10,-135), 'runits': 'asec', # 'AU' or 'asec'\n",
    "    'model': 'bosz', # 'SB12', 'BEX', 'cond', or stellar ('bosz', 'ck04models', 'phoenix')\n",
    "    'sptype': 'M0V', 'Av':0, 'renorm_args': (10,'vegamag',inst.bandpass), \n",
    "}\n"
   ]
  },
  {
   "cell_type": "code",
   "execution_count": 21,
   "id": "continuing-thirty",
   "metadata": {},
   "outputs": [
    {
     "name": "stderr",
     "output_type": "stream",
     "text": [
      "[webbpsf_ext:WARNING] Overlap between spectrum and bandpass: partial.\n",
      "[webbpsf_ext:WARNING] Recommend supplying renorm_args input.\n"
     ]
    },
    {
     "name": "stdout",
     "output_type": "stream",
     "text": [
      "  Fom_b in F1550C: 11.03 mag\n",
      "  Fom_c in F1550C: 11.05 mag\n",
      "  Fom_d in F1550C: 10.83 mag\n",
      "  Fom_e in F1550C: 10.00 mag\n"
     ]
    }
   ],
   "source": [
    "# All companion params\n",
    "comp_parms_all = [comp_SB12_params, comp_BEX_params, comp_cond_params, comp_star_params]\n",
    "\n",
    "# Create spectrum for each source\n",
    "bp = inst.bandpass\n",
    "for kwargs in comp_parms_all:\n",
    "    sp = spectra.companion_spec(bp, **kwargs)\n",
    "    kwargs['sp'] = sp\n",
    "    \n",
    "    # Anticipated magnitude in instrument bandpass\n",
    "    obs = S.Observation(sp, bp, binset=bp.wave)\n",
    "    mag = obs.effstim('vegamag')\n",
    "    print(f\"  {kwargs['name']} in {bp.name}: {mag:.2f} mag\")\n"
   ]
  },
  {
   "cell_type": "code",
   "execution_count": 22,
   "id": "thick-charter",
   "metadata": {},
   "outputs": [],
   "source": [
    "# Add RA/Dec positions for each source\n",
    "ra_obj, dec_obj = (obj_params['RA_obj'], obj_params['Dec_obj'])\n",
    "for comp_params in comp_parms_all:\n",
    "    if comp_params['rth_off'] is None:\n",
    "        x, y = comp_params['xy_off']\n",
    "        r, th = xy_to_rtheta(x,y)\n",
    "    else:\n",
    "        r, th = comp_params['rth_off']\n",
    "    \n",
    "    runits = comp_params['runits']\n",
    "    if 'AU' in runits:\n",
    "        r_asec = r / obj_params['dist']\n",
    "    elif ('asec' in runits) or ('arcsec' in runits):\n",
    "        r_asec = r\n",
    "    else:\n",
    "        errstr = \"Do not recognize runits='{}'\".format(runits)\n",
    "        raise ValueError(errstr)\n",
    "    \n",
    "    ra, dec = coords.radec_offset(ra_obj, dec_obj, r_asec, th)\n",
    "    comp_params['RA_obj']  = ra\n",
    "    comp_params['Dec_obj'] = dec\n"
   ]
  },
  {
   "cell_type": "code",
   "execution_count": 23,
   "id": "regional-raising",
   "metadata": {},
   "outputs": [
    {
     "name": "stdout",
     "output_type": "stream",
     "text": [
      "Sci pixels offset = (+116.00,  +20.26)\n",
      "Sci pixels offset = ( -21.38, +115.32)\n",
      "Sci pixels offset = (-115.69,  -20.24)\n",
      "Sci pixels offset = ( +33.17, -177.51)\n"
     ]
    }
   ],
   "source": [
    "siaf_ap = tel_point.siaf_ap_obs\n",
    "xsci_cen, ysci_cen = siaf_ap.reference_point('sci')\n",
    "\n",
    "xsci_all = []\n",
    "ysci_all = []\n",
    "yxsci_off_all = []\n",
    "for comp_params in comp_parms_all:\n",
    "    # Get `sci` coord positions\n",
    "    coord_obj = (comp_params['RA_obj'], comp_params['Dec_obj'])\n",
    "    xsci, ysci = tel_point.radec_to_frame(coord_obj, frame_out='sci')\n",
    "    xsci_all.append(xsci)\n",
    "    ysci_all.append(ysci)\n",
    "\n",
    "    # Get sci position shifts from center in units of detector pixels\n",
    "    xsci_off, ysci_off = (xsci-xsci_cen, ysci-ysci_cen)\n",
    "\n",
    "    # and oversampled pixel shifts\n",
    "    osamp = inst.oversample\n",
    "    xsci_off_over = xsci_off * osamp\n",
    "    ysci_off_over = ysci_off * osamp\n",
    "    yxsci_off_all.append([ysci_off_over, xsci_off_over])\n",
    "\n",
    "    print(f\"Sci pixels offset = ({xsci_off_over:+7.2f}, {ysci_off_over:+7.2f})\")"
   ]
  },
  {
   "cell_type": "code",
   "execution_count": 24,
   "id": "hairy-engineer",
   "metadata": {},
   "outputs": [
    {
     "name": "stdout",
     "output_type": "stream",
     "text": [
      "[webbpsf_ext:INFO] Generating mask-dependent modifications...\n"
     ]
    },
    {
     "data": {
      "application/vnd.jupyter.widget-view+json": {
       "model_id": "ec2dd7eb2d384c5b899e7213d9b5fb4a",
       "version_major": 2,
       "version_minor": 0
      },
      "text/plain": [
       "PSFs:   0%|          | 0/4 [00:00<?, ?it/s]"
      ]
     },
     "metadata": {},
     "output_type": "display_data"
    }
   ],
   "source": [
    "# Create PSF for each companion\n",
    "sp_all = [d['sp'] for d in comp_parms_all]\n",
    "coord_vals = np.array((xsci_all,ysci_all))\n",
    "hdul = inst.calc_psf_from_coeff(sp=sp_all, coord_vals=coord_vals, coord_frame='sci')\n",
    "\n",
    "# Expand PSF to full frame and offset to proper position\n",
    "ny_pix, nx_pix = (siaf_ap.YSciSize, siaf_ap.XSciSize)\n",
    "ny_pix_over, nx_pix_over = np.array([ny_pix, nx_pix]) * osamp\n",
    "shape_new = (ny_pix*osamp, nx_pix*osamp)\n",
    "image_companion_full = np.zeros(shape_new, dtype='float')\n",
    "\n",
    "# Offset and sum images together\n",
    "for i, hdu in enumerate(hdul):\n",
    "    # Offsets are passed as (dely, delx)\n",
    "    delyx = yxsci_off_all[i]\n",
    "    image_companion_full += pad_or_cut_to_size(hdu.data, shape_new, offset_vals=delyx)\n",
    "    \n",
    "# Add to final HDUList\n",
    "hdul_full[0].data += image_companion_full"
   ]
  },
  {
   "cell_type": "code",
   "execution_count": 35,
   "id": "horizontal-party",
   "metadata": {},
   "outputs": [
    {
     "data": {
      "text/plain": [
       "<matplotlib.image.AxesImage at 0x7f95dff728d0>"
      ]
     },
     "execution_count": 35,
     "metadata": {},
     "output_type": "execute_result"
    },
    {
     "data": {
      "image/png": "[encoded data removed]",
      "text/plain": [
       "<Figure size 576x432 with 1 Axes>"
      ]
     },
     "metadata": {
      "needs_background": "light"
     },
     "output_type": "display_data"
    }
   ],
   "source": [
    "plt.imshow(image_companion_full, cmap='magma')"
   ]
  },
  {
   "cell_type": "markdown",
   "id": "minus-drink",
   "metadata": {},
   "source": [
    "## Convolve extended disk image\n",
    "\n",
    "Properly including extended objects is a little more complicated than for point sources. First, we need properly format the input model to a pixel binning and flux units appropriate for the simulations (ie., pixels should be equal to oversampled PSFs with flux units of counts/sec). Then, the image needs to be rotated relative to the 'idl' coordinate plane and subsequently shifted for any pointing offsets. Once in the appropriate 'idl' system \n"
   ]
  },
  {
   "cell_type": "code",
   "execution_count": 26,
   "id": "blond-australian",
   "metadata": {},
   "outputs": [],
   "source": [
    "# Create grid locations for array of PSFs to generate\n",
    "apname = inst.psf_coeff_header['APERNAME']\n",
    "siaf_ap = inst.siaf[apname]\n",
    "\n",
    "field_rot = 0 if inst._rotation is None else inst._rotation\n",
    "\n",
    "xyoff_half = 10**(np.linspace(-2,1,10))\n",
    "xoff = yoff = np.concatenate([-1*xyoff_half[::-1],[0],xyoff_half])\n",
    "\n",
    "# Mask Offset grid positions in arcsec\n",
    "xgrid_off, ygrid_off = np.meshgrid(xoff, yoff)\n",
    "xgrid_off, ygrid_off = xgrid_off.flatten(), ygrid_off.flatten()\n",
    "\n",
    "# Science positions in detector pixels\n",
    "xoff_sci_asec, yoff_sci_asec = coords.xy_rot(-1*xgrid_off, -1*ygrid_off, -1*field_rot)\n",
    "xsci = xoff_sci_asec / siaf_ap.XSciScale + siaf_ap.XSciRef\n",
    "ysci = yoff_sci_asec / siaf_ap.YSciScale + siaf_ap.YSciRef"
   ]
  },
  {
   "cell_type": "code",
   "execution_count": 27,
   "id": "personal-ceremony",
   "metadata": {},
   "outputs": [
    {
     "name": "stdout",
     "output_type": "stream",
     "text": [
      "[webbpsf_ext:INFO] Generating mask-dependent modifications...\n"
     ]
    },
    {
     "data": {
      "application/vnd.jupyter.widget-view+json": {
       "model_id": "701965986e7247d39431cd33c9d5cec9",
       "version_major": 2,
       "version_minor": 0
      },
      "text/plain": [
       "PSFs:   0%|          | 0/441 [00:00<?, ?it/s]"
      ]
     },
     "metadata": {},
     "output_type": "display_data"
    },
    {
     "name": "stdout",
     "output_type": "stream",
     "text": [
      "CPU times: user 1min 6s, sys: 15.5 s, total: 1min 21s\n",
      "Wall time: 43.9 s\n"
     ]
    }
   ],
   "source": [
    "%%time\n",
    "\n",
    "# Now, create all PSFs, one for each (xsci, ysci) location\n",
    "# Only need to do this once \n",
    "hdul_psfs = inst.calc_psf_from_coeff(coord_vals=(xsci, ysci), coord_frame='sci', return_oversample=True)"
   ]
  },
  {
   "cell_type": "code",
   "execution_count": 28,
   "id": "improving-bryan",
   "metadata": {},
   "outputs": [],
   "source": [
    "# Disk model information\n",
    "disk_params = {\n",
    "    'file': \"Fomalhaut/Fomalhaut_F1550Csc.fits\",\n",
    "    'pixscale': 0.02775,\n",
    "    'wavelength': 15.5,\n",
    "    'units': 'Jy/pixel',\n",
    "    'dist' : 7.7,\n",
    "    'cen_star' : False,\n",
    "}\n",
    "\n",
    "# Open model and rebin to PSF sampling\n",
    "# Scale to instrument wavelength assuming grey scattering function\n",
    "# Converts to phot/sec/lambda\n",
    "hdul_disk_model = image_manip.make_disk_image(inst, disk_params, sp_star=obj_params['sp'])\n",
    "\n",
    "# Rotation necessary to go from sky coordinates to 'idl' frame\n",
    "rotate_to_idl = -1*(tel_point.siaf_ap_obs.V3IdlYAngle + tel_point.pos_ang)"
   ]
  },
  {
   "cell_type": "code",
   "execution_count": 29,
   "id": "roman-sector",
   "metadata": {},
   "outputs": [],
   "source": [
    "# Select the first dither location offset\n",
    "delx, dely = tel_point.position_offsets_act[0]\n",
    "hdul_out = image_manip.rotate_shift_image(hdul_disk_model, PA_offset=rotate_to_idl,\n",
    "                                          delx_asec=delx, dely_asec=dely)\n",
    "\n",
    "# Distort image on 'sci' coordinate grid\n",
    "im_sci, xsci_im, ysci_im = image_manip.distort_image(hdul_out, ext=0, to_frame='sci', return_coords=True)\n",
    "\n",
    "# Distort image onto 'tel' (V2, V3) coordinate grid for plot illustration\n",
    "im_tel, v2_im, v3_im = image_manip.distort_image(hdul_out, ext=0, to_frame='tel', return_coords=True)"
   ]
  },
  {
   "cell_type": "code",
   "execution_count": 30,
   "id": "hourly-studio",
   "metadata": {},
   "outputs": [
    {
     "data": {
      "image/png": "[encoded data removed]",
      "text/plain": [
       "<Figure size 576x432 with 1 Axes>"
      ]
     },
     "metadata": {
      "needs_background": "light"
     },
     "output_type": "display_data"
    }
   ],
   "source": [
    "# Plot locations for PSFs that we will generate\n",
    "fig, ax = plt.subplots(1,1)\n",
    "\n",
    "# Show image in V2/V3 plane\n",
    "extent = [v2_im.min(), v2_im.max(), v3_im.min(), v3_im.max()]\n",
    "ax.imshow(im_tel**0.1, extent=extent, cmap='magma')\n",
    "\n",
    "# Add on SIAF aperture boundaries\n",
    "tel_point.plot_inst_apertures(ax=ax, clear=False, label=True)\n",
    "tel_point.plot_ref_aperture(ax=ax)\n",
    "tel_point.plot_obs_aperture(ax=ax, color='C3')\n",
    "\n",
    "# Add PSF location points\n",
    "v2, v3 = siaf_ap.convert(xsci, ysci, 'sci', 'tel')\n",
    "ax.scatter(v2, v3, marker='.', alpha=0.5, color='C2', edgecolors='none', linewidths=0)\n",
    "\n",
    "ax.set_title('Model disk image and PSF Locations in SIAF FoV')\n",
    "\n",
    "fig.tight_layout()"
   ]
  },
  {
   "cell_type": "markdown",
   "id": "stone-affair",
   "metadata": {},
   "source": [
    "This particular disk image is oversized, so we will need to crop the image after convolving PSFs. We may want to consider trimming some of this image prior to convolution, depending on how some of the FoV is blocked before reaching the coronagraphic optics."
   ]
  },
  {
   "cell_type": "code",
   "execution_count": 31,
   "id": "answering-pharmacology",
   "metadata": {},
   "outputs": [
    {
     "data": {
      "application/vnd.jupyter.widget-view+json": {
       "model_id": "ef0643f63f1a41489f79be1c4f4e1150",
       "version_major": 2,
       "version_minor": 0
      },
      "text/plain": [
       "  0%|          | 0/441 [00:00<?, ?it/s]"
      ]
     },
     "metadata": {},
     "output_type": "display_data"
    },
    {
     "name": "stdout",
     "output_type": "stream",
     "text": [
      "Closing multiprocess pool.\n"
     ]
    }
   ],
   "source": [
    "# If the image is too large, then this process will eat up all of your computer's RAM\n",
    "# So, crop image to more reasonable size (20% oversized)\n",
    "osamp = inst.oversample\n",
    "xysize = int(1.2 * np.max([siaf_ap.XSciSize,siaf_ap.YSciSize]) * osamp)\n",
    "xy_add = osamp - np.mod(xysize, osamp)\n",
    "xysize += xy_add\n",
    "\n",
    "im_sci = pad_or_cut_to_size(im_sci, xysize)\n",
    "hdul_disk_model_sci = fits.HDUList(fits.PrimaryHDU(data=im_sci, header=hdul_out[0].header))\n",
    "\n",
    "# Convolve image\n",
    "im_conv = image_manip.convolve_image(hdul_disk_model_sci, hdul_psfs)"
   ]
  },
  {
   "cell_type": "code",
   "execution_count": 32,
   "id": "minimal-nightlife",
   "metadata": {},
   "outputs": [],
   "source": [
    "# Add cropped image to final oversampled image\n",
    "im_conv = pad_or_cut_to_size(im_conv, hdul_full[0].data.shape)\n",
    "hdul_full[0].data += im_conv"
   ]
  },
  {
   "cell_type": "code",
   "execution_count": 33,
   "id": "adult-premium",
   "metadata": {},
   "outputs": [],
   "source": [
    "def quick_ref_psf(idl_coord, inst, out_shape, sp=None):\n",
    "    \n",
    "    # Observed SIAF aperture\n",
    "    siaf_ap = tel_point.siaf_ap_obs\n",
    "    \n",
    "    # Location of observation\n",
    "    xidl, yidl = idl_coord\n",
    "    \n",
    "    # Get offset in SCI pixels\n",
    "    xsci_off, ysci_off = np.array(siaf_ap.convert(xidl, yidl, 'idl', 'sci')) - \\\n",
    "                         np.array(siaf_ap.reference_point('sci'))\n",
    "    \n",
    "    # Get oversampled pixels offests\n",
    "    osamp = inst.oversample\n",
    "    xsci_off_over, ysci_off_over = np.array([xsci_off, ysci_off]) * osamp\n",
    "    yx_offset = (ysci_off_over, xsci_off_over)\n",
    "    \n",
    "    # Create PSF\n",
    "    prev_log = webbpsf_ext.conf.logging_level\n",
    "    setup_logging('WARN', verbose=False)\n",
    "    hdul_psf_ref = inst.calc_psf_from_coeff(sp=sp, coord_vals=(xidl, yidl), coord_frame='idl')\n",
    "    setup_logging(prev_log, verbose=False)\n",
    "\n",
    "    im_psf = pad_or_cut_to_size(hdul_psf_ref[0].data, out_shape, offset_vals=yx_offset)\n",
    "\n",
    "    return im_psf"
   ]
  },
  {
   "cell_type": "code",
   "execution_count": 34,
   "id": "changing-activity",
   "metadata": {},
   "outputs": [
    {
     "data": {
      "image/png": "[encoded data removed]",
      "text/plain": [
       "<Figure size 864x324 with 3 Axes>"
      ]
     },
     "metadata": {
      "needs_background": "light"
     },
     "output_type": "display_data"
    }
   ],
   "source": [
    "from matplotlib.colors import LogNorm\n",
    "from webbpsf_ext.coords import plotAxes\n",
    "\n",
    "fig, axes = plt.subplots(1,3, figsize=(12,4.5))\n",
    "\n",
    "############################\n",
    "# Plot raw image\n",
    "ax = axes[0]\n",
    "\n",
    "# Rebin to detector scale\n",
    "im = image_manip.frebin(hdul_full[0].data, scale=1/osamp)\n",
    "mn = np.median(im)\n",
    "std = np.std(im)\n",
    "vmin = 0\n",
    "vmax = mn+10*std\n",
    "\n",
    "xsize_asec = siaf_ap.XSciSize * siaf_ap.XSciScale\n",
    "ysize_asec = siaf_ap.YSciSize * siaf_ap.YSciScale\n",
    "extent = [-1*xsize_asec/2, xsize_asec/2, -1*ysize_asec/2, ysize_asec/2]\n",
    "norm = LogNorm(vmin=im.max()/1e5, vmax=im.max())\n",
    "ax.imshow(im, extent=extent, norm=norm, cmap='magma')\n",
    "\n",
    "ax.set_title(\"Raw Image (log scale)\")\n",
    "\n",
    "ax.set_xlabel('XSci (arcsec)')\n",
    "ax.set_ylabel('YSci (arcsec)')\n",
    "plotAxes(ax, angle=-1*siaf_ap.V3SciYAngle)\n",
    "\n",
    "############################\n",
    "# Basic PSF subtraction\n",
    "# Subtract a near-perfect reference PSF\n",
    "ax = axes[1]\n",
    "coord_vals = tel_point.position_offsets_act[0]\n",
    "shape_new = hdul_full[0].data.shape\n",
    "im_psf = quick_ref_psf(coord_vals, inst, shape_new, sp=sp_star)\n",
    "\n",
    "imdiff = image_manip.frebin(hdul_full[0].data - im_psf, scale=1/osamp)\n",
    "norm = LogNorm(vmin=imdiff.max()/1e5, vmax=imdiff.max())\n",
    "ax.imshow(imdiff, extent=extent, norm=norm, cmap='magma')\n",
    "\n",
    "ax.set_title(\"PSF Subtracted (log scale)\")\n",
    "\n",
    "ax.set_xlabel('XSci (arcsec)')\n",
    "ax.set_ylabel('YSci (arcsec)')\n",
    "plotAxes(ax, angle=-1*siaf_ap.V3SciYAngle)\n",
    "\n",
    "############################\n",
    "# # De-rotate to sky orientation\n",
    "\n",
    "ax = axes[2]\n",
    "\n",
    "imrot = image_manip.rotate_offset(imdiff, rotate_to_idl, reshape=False, cval=np.nan)\n",
    "ax.imshow(imrot, extent=extent, norm=norm, cmap='magma')\n",
    "\n",
    "ax.set_title(\"De-Rotated (log scale)\")\n",
    "\n",
    "ax.set_xlabel('RA offset (arcsec)')\n",
    "ax.set_ylabel('Dec offset (arcsec)')\n",
    "plotAxes(ax, position=(0.95,0.35), label1='E', label2='N')\n",
    "\n",
    "fig.suptitle(f\"Fomalhaut ({siaf_ap.AperName})\", fontsize=14)\n",
    "fig.tight_layout()"
   ]
  },
  {
   "cell_type": "code",
   "execution_count": null,
   "id": "apart-deposit",
   "metadata": {},
   "outputs": [],
   "source": []
  }
 ],
 "metadata": {
  "kernelspec": {
   "display_name": "Python 3",
   "language": "python",
   "name": "python3"
  },
  "language_info": {
   "codemirror_mode": {
    "name": "ipython",
    "version": 3
   },
   "file_extension": ".py",
   "mimetype": "text/x-python",
   "name": "python",
   "nbconvert_exporter": "python",
   "pygments_lexer": "ipython3",
   "version": "3.7.9"
  }
 },
 "nbformat": 4,
 "nbformat_minor": 5
}
